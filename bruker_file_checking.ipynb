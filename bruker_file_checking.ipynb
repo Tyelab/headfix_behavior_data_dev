{
 "cells": [
  {
   "cell_type": "code",
   "execution_count": 2,
   "id": "37538715-1071-48a9-a401-1713d087813f",
   "metadata": {},
   "outputs": [],
   "source": [
    "# Headfix Behavior Data Analysis Playground\n",
    "# Jeremy Delahanty June 2021\n",
    "\n",
    "# Import packages\n",
    "import pandas as pd\n",
    "import json\n",
    "import re\n",
    "import glob\n",
    "import matplotlib.pyplot as plt\n",
    "from pathlib import Path"
   ]
  },
  {
   "cell_type": "code",
   "execution_count": 3,
   "id": "d866e587-d43c-48ee-a84c-141ad38c79a0",
   "metadata": {},
   "outputs": [
    {
     "name": "stderr",
     "output_type": "stream",
     "text": [
      "C:\\Users\\jdelahanty.SNL\\Miniconda3\\envs\\headfix_behavior_data\\lib\\site-packages\\numpy\\lib\\arraysetops.py:583: FutureWarning: elementwise comparison failed; returning scalar instead, but in the future will perform elementwise comparison\n",
      "  mask |= (ar1 == a)\n"
     ]
    }
   ],
   "source": [
    "behavior_datadirs = \"C:/Users/jdelahanty.SNL/Desktop/testdir/behavior/*/raw/*.csv\"\n",
    "config_datadirs = \"C:/Users/jdelahanty.SNL/Desktop/testdir/config/*\"\n",
    "\n",
    "# Get voltage recording files into a list\n",
    "# voltage_recording = glob.glob(\"Y:\\specialk/behavior/*\")\n",
    "\n",
    "voltage_recordings = glob.glob(behavior_datadirs)\n",
    "configs = glob.glob(config_datadirs)\n",
    "\n",
    "# Load the csv into a pandas dataframe\n",
    "test = pd.read_csv(voltage_recordings[0], index_col=\"Time(ms)\")\n",
    "\n",
    "# Strip away whitespace in the columns created in .csv by Bruker\n",
    "test = test.rename(columns=lambda x: x.strip())\n",
    "\n",
    "# Filter dataset to have all values below 3V turned to 0\n",
    "test = test > 3\n",
    "\n",
    "# Convert dataset to integer type, not float\n",
    "test = test.astype(int)\n",
    "\n",
    "# Use pandas.diff() to take get start/stop of each signal\n",
    "test = test.diff()\n",
    "\n",
    "# Set any NaN values to 0\n",
    "test = test.fillna(0)\n",
    "\n",
    "# Remove negative values for licks\n",
    "test.Lick = test.Lick > 0\n",
    "\n",
    "# plt.plot(test.index, test[\"Lick\"])\n",
    "# plt.plot(test.index, test[\"Liquid\"])\n",
    "# plt.plot(test.index, test[\"Airpuff\"])\n",
    "# plt.plot(test.index, test[\"Speaker\"])\n",
    "\n",
    "# plt.legend([\"lick\", \"liquid\", \"airpuff\", \"speaker\"])\n",
    "# plt.show()"
   ]
  },
  {
   "cell_type": "code",
   "execution_count": 53,
   "id": "f986fd4d-0aa2-4c81-a8cf-796346278ced",
   "metadata": {},
   "outputs": [
    {
     "name": "stdout",
     "output_type": "stream",
     "text": [
      "31\n"
     ]
    }
   ],
   "source": [
    "print(sum(test.Lick == 1))"
   ]
  },
  {
   "cell_type": "code",
   "execution_count": 54,
   "id": "8ff78e08-069d-4181-80c0-72b287216fc1",
   "metadata": {},
   "outputs": [
    {
     "name": "stdout",
     "output_type": "stream",
     "text": [
      "40\n"
     ]
    }
   ],
   "source": [
    "print(sum(test.Liquid == 1))"
   ]
  },
  {
   "cell_type": "code",
   "execution_count": 58,
   "id": "77099be9-7dfa-4ad2-9c57-0f49ed8e21a4",
   "metadata": {},
   "outputs": [
    {
     "name": "stdout",
     "output_type": "stream",
     "text": [
      "0\n"
     ]
    }
   ],
   "source": [
    "print(sum(test.Airpuff == 1))"
   ]
  },
  {
   "cell_type": "code",
   "execution_count": 57,
   "id": "86f82d4c-8bda-4fa7-b8f4-760a12029b38",
   "metadata": {},
   "outputs": [
    {
     "name": "stdout",
     "output_type": "stream",
     "text": [
      "40\n"
     ]
    }
   ],
   "source": [
    "print(sum(test.Speaker == 1))"
   ]
  },
  {
   "cell_type": "code",
   "execution_count": 10,
   "id": "e162ff56-2ef4-49b8-bf91-f2da55520b7c",
   "metadata": {},
   "outputs": [
    {
     "name": "stdout",
     "output_type": "stream",
     "text": [
      "All animals present\n",
      "['LHE011', 'LHE012', 'LHE013', 'LHE014', 'LHE015', 'LHE016'] ['LHE011', 'LHE012', 'LHE013', 'LHE014', 'LHE015', 'LHE016'] ['20210603', '20210603', '20210603', '20210603', '20210603', '20210603', '20210604', '20210604', '20210604', '20210604', '20210604', '20210604', '20210605', '20210605', '20210605', '20210605', '20210605', '20210605', '20210606', '20210606', '20210606', '20210606', '20210606', '20210607', '20210607', '20210608', '20210609', '20210609', '20210609', '20210609', '20210610', '20210610', '20210610', '20210610', '20210610', '20210611', '20210611', '20210611', '20210612']\n"
     ]
    }
   ],
   "source": [
    "pattern = \"(\\d{8})_(LHE\\d{3})_\"\n",
    "\n",
    "voltage_recordings = glob.glob(behavior_datadirs)\n",
    "behavior_animal_list = []\n",
    "behavior_dates = []\n",
    "for i in voltage_recordings:\n",
    "    i = Path(i).name\n",
    "    session = re.search(pattern=pattern, string=i).group(1)\n",
    "    behavior_dates.append(session)\n",
    "    animal_id = re.search(pattern=pattern, string=i).group(2)\n",
    "    behavior_animal_list.append(animal_id)\n",
    "\n",
    "behavior_animal_list = set(behavior_animal_list)\n",
    "behavior_animal_list = sorted(list(behavior_animal_list))\n",
    "\n",
    "configs = glob.glob(config_datadirs)\n",
    "config_list = []\n",
    "for j in configs:\n",
    "    j = Path(j).name\n",
    "    y = re.search(pattern=pattern, string=j).group(2)\n",
    "    config_list.append(y)\n",
    "\n",
    "config_list = set(config_list)\n",
    "config_list = sorted(list(config_list))\n",
    "\n",
    "if behavior_animal_list == config_list:\n",
    "    print(\"All animals present\")\n",
    "    \n",
    "print(behavior_animal_list, config_list, behavior_dates)"
   ]
  },
  {
   "cell_type": "code",
   "execution_count": 11,
   "id": "fc525ce7-ee11-4c59-a6da-8f65e1fbe0cd",
   "metadata": {},
   "outputs": [
    {
     "name": "stdout",
     "output_type": "stream",
     "text": [
      "45 39 6\n",
      "6\n",
      "{'20210602_LHE013_plane0', '20210602_LHE011_plane0', '20210602_LHE012_plane0', '20210602_LHE014_plane0', '20210602_LHE016_plane0', '20210602_LHE015_plane0'}\n",
      "6\n"
     ]
    }
   ],
   "source": [
    "has_csv = []\n",
    "all_list = []\n",
    "base_dir = \"C:/Users/jdelahanty.SNL/Desktop/testdir/behavior\"\n",
    "\n",
    "all_gen = Path(base_dir).glob(\"*\")\n",
    "for i in all_gen:\n",
    "    i = Path(i).name\n",
    "    correct_name = re.search(pattern=\"(\\d{8}_LHE\\d{3}_plane\\d{1})\", string=i).group(1)\n",
    "    all_list.append(correct_name)\n",
    "\n",
    "has_csvgen = Path(base_dir).glob(\"*/raw/*.csv\")\n",
    "\n",
    "for j in has_csvgen:\n",
    "    j = Path(j).name\n",
    "    correct_name = re.search(pattern=\"(\\d{8}_LHE\\d{3}_plane\\d{1})\", string=j).group(1)\n",
    "    has_csv.append(correct_name)\n",
    "\n",
    "testset = set(all_list) - set(has_csv)\n",
    "\n",
    "print(len(all_list), len(has_csv), len(testset))\n",
    "print(len(all_list) - len(has_csv))\n",
    "print(testset)\n",
    "print(len(testset))"
   ]
  },
  {
   "cell_type": "code",
   "execution_count": 12,
   "id": "36f617da-3d05-4994-ace8-a8049c91db0c",
   "metadata": {},
   "outputs": [
    {
     "data": {
      "text/plain": [
       "True"
      ]
     },
     "execution_count": 12,
     "metadata": {},
     "output_type": "execute_result"
    }
   ],
   "source": [
    "'20210607_LHE012_plane0' in all_list"
   ]
  },
  {
   "cell_type": "code",
   "execution_count": 13,
   "id": "854e7cab-46b0-4271-b9f7-dbeca30a6ffb",
   "metadata": {},
   "outputs": [
    {
     "data": {
      "text/plain": [
       "True"
      ]
     },
     "execution_count": 13,
     "metadata": {},
     "output_type": "execute_result"
    }
   ],
   "source": [
    "'20210607_LHE012_plane0' in has_csv"
   ]
  },
  {
   "cell_type": "code",
   "execution_count": null,
   "id": "50f368b2-b928-4fac-a2c1-25e2ac6570b0",
   "metadata": {},
   "outputs": [],
   "source": []
  }
 ],
 "metadata": {
  "kernelspec": {
   "display_name": "Python 3",
   "language": "python",
   "name": "python3"
  },
  "language_info": {
   "codemirror_mode": {
    "name": "ipython",
    "version": 3
   },
   "file_extension": ".py",
   "mimetype": "text/x-python",
   "name": "python",
   "nbconvert_exporter": "python",
   "pygments_lexer": "ipython3",
   "version": "3.9.5"
  }
 },
 "nbformat": 4,
 "nbformat_minor": 5
}
