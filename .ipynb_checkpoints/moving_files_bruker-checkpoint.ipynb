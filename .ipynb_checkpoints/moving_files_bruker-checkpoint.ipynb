{
 "cells": [
  {
   "cell_type": "markdown",
   "id": "d413a46d-72a2-4145-bee2-a4c129ac2c96",
   "metadata": {},
   "source": [
    "# Directory Creation/Manipulation Notebook\n",
    "## Jeremy Delahanty 6/16/21"
   ]
  },
  {
   "cell_type": "code",
   "execution_count": 1,
   "id": "5671f6db-0dd0-475a-884d-d192a4e86b1f",
   "metadata": {},
   "outputs": [],
   "source": [
    "# Import packages\n",
    "from pathlib import Path\n",
    "import pathlib\n",
    "import glob\n",
    "import re"
   ]
  },
  {
   "cell_type": "code",
   "execution_count": 2,
   "id": "ce379b1f-1a8d-4e94-b279-6de4a9f79f72",
   "metadata": {},
   "outputs": [
    {
     "name": "stdout",
     "output_type": "stream",
     "text": [
      "['LHE011', 'LHE012', 'LHE013', 'LHE014', 'LHE015', 'LHE016']\n"
     ]
    }
   ],
   "source": [
    "twop_beh_basepath = Path(\"C:/Users/jdelahanty.SNL/Desktop/testdir/specialk/learned_helplessness/twop/behavior/\")\n",
    "\n",
    "all_animals_gen = twop_beh_basepath.glob(\"*\")\n",
    "all_list = []\n",
    "\n",
    "for i in all_animals_gen:\n",
    "    i = i.name\n",
    "    correct_name = re.search(pattern=\"(\\d{8})_(LHE\\d{3})_(plane\\d{1})\", string=i).group(2)\n",
    "    all_list.append(correct_name)\n",
    "    \n",
    "all_list = sorted(list(set(all_list)))\n",
    "print(all_list)"
   ]
  },
  {
   "cell_type": "code",
   "execution_count": 3,
   "id": "44642a6b-8d80-4737-b11f-4706a791e6ef",
   "metadata": {},
   "outputs": [
    {
     "name": "stdout",
     "output_type": "stream",
     "text": [
      "dict_keys(['LHE011', 'LHE012', 'LHE013', 'LHE014', 'LHE015', 'LHE016'])\n",
      "LHE011 ['20210602', '20210603', '20210604', '20210605', '20210607', '20210608', '20210611', '20210612']\n",
      "LHE012 ['20210602', '20210603', '20210604', '20210605', '20210606', '20210607', '20210610', '20210611']\n",
      "LHE013 ['20210602', '20210603', '20210604', '20210605', '20210606', '20210609', '20210610']\n",
      "LHE014 ['20210602', '20210603', '20210604', '20210605', '20210606', '20210609', '20210610']\n",
      "LHE015 ['20210602', '20210603', '20210604', '20210605', '20210606', '20210609', '20210610', '20210611']\n",
      "LHE016 ['20210602', '20210603', '20210604', '20210605', '20210606', '20210609', '20210610']\n"
     ]
    }
   ],
   "source": [
    "twop_beh_basepath = Path(\"C:/Users/jdelahanty.SNL/Desktop/testdir/specialk/learned_helplessness/twop/behavior/\")\n",
    "all_session_gen = twop_beh_basepath.glob(\"*\")\n",
    "\n",
    "animal_dict = {k: [] for k in all_list}\n",
    "\n",
    "for i in all_session_gen:\n",
    "    i = i.name\n",
    "    animal_dates = re.search(pattern=\"(\\d{8}_LHE\\d{3})\", string=i).group(1)\n",
    "    key = animal_dates.split(\"_\")[1]\n",
    "    value = animal_dates.split(\"_\")[0]\n",
    "    animal_dict[key].append(value)\n",
    "\n",
    "print(animal_dict.keys())\n",
    "for i in animal_dict.keys():\n",
    "    print(i, animal_dict[i])\n"
   ]
  },
  {
   "cell_type": "code",
   "execution_count": 9,
   "id": "a07e6bd4-0a4f-42d8-9808-69c1f81708b7",
   "metadata": {
    "tags": []
   },
   "outputs": [
    {
     "name": "stdout",
     "output_type": "stream",
     "text": [
      "LHE011\n",
      "Not dir C:\\Users\\jdelahanty.SNL\\Desktop\\testdir\\specialk\\learned_helplessness\\LHE011\\twop\n",
      "made dir C:\\Users\\jdelahanty.SNL\\Desktop\\testdir\\specialk\\learned_helplessness\\LHE011\\twop\n",
      "LHE012\n",
      "Not dir C:\\Users\\jdelahanty.SNL\\Desktop\\testdir\\specialk\\learned_helplessness\\LHE012\\twop\n",
      "made dir C:\\Users\\jdelahanty.SNL\\Desktop\\testdir\\specialk\\learned_helplessness\\LHE012\\twop\n",
      "LHE013\n",
      "Not dir C:\\Users\\jdelahanty.SNL\\Desktop\\testdir\\specialk\\learned_helplessness\\LHE013\\twop\n",
      "made dir C:\\Users\\jdelahanty.SNL\\Desktop\\testdir\\specialk\\learned_helplessness\\LHE013\\twop\n",
      "LHE014\n",
      "Not dir C:\\Users\\jdelahanty.SNL\\Desktop\\testdir\\specialk\\learned_helplessness\\LHE014\\twop\n",
      "made dir C:\\Users\\jdelahanty.SNL\\Desktop\\testdir\\specialk\\learned_helplessness\\LHE014\\twop\n",
      "LHE015\n",
      "Not dir C:\\Users\\jdelahanty.SNL\\Desktop\\testdir\\specialk\\learned_helplessness\\LHE015\\twop\n",
      "made dir C:\\Users\\jdelahanty.SNL\\Desktop\\testdir\\specialk\\learned_helplessness\\LHE015\\twop\n",
      "LHE016\n",
      "Not dir C:\\Users\\jdelahanty.SNL\\Desktop\\testdir\\specialk\\learned_helplessness\\LHE016\\twop\n",
      "made dir C:\\Users\\jdelahanty.SNL\\Desktop\\testdir\\specialk\\learned_helplessness\\LHE016\\twop\n"
     ]
    }
   ],
   "source": [
    "lh_basepath = Path(\"C:/Users/jdelahanty.SNL/Desktop/testdir/specialk/learned_helplessness/\")\n",
    "\n",
    "lh_basegen = lh_basepath.glob(\"*\")\n",
    "\n",
    "for animal in all_list:\n",
    "    print(animal)\n",
    "    # If bottom directory doesn't exist, need parents=True\n",
    "    animal = lh_basepath / animal / \"twop\"\n",
    "    if animal.is_dir():\n",
    "        print(\"Is Dir\")\n",
    "    else:\n",
    "        print(\"Not dir\", animal)\n",
    "        animal.mkdir(parents=True)\n",
    "        print(\"made dir\", animal)\n"
   ]
  },
  {
   "cell_type": "code",
   "execution_count": 5,
   "id": "b2873402-f614-470a-a9d8-367fc2b705bf",
   "metadata": {},
   "outputs": [
    {
     "name": "stdout",
     "output_type": "stream",
     "text": [
      "LHE011 20210602\n",
      "not dir\n"
     ]
    },
    {
     "ename": "FileNotFoundError",
     "evalue": "[WinError 3] The system cannot find the path specified: 'C:\\\\Users\\\\jdelahanty.SNL\\\\Desktop\\\\testdir\\\\specialk\\\\learned_helplessness\\\\twop\\\\LHE011\\\\20210602'",
     "output_type": "error",
     "traceback": [
      "\u001b[1;31m---------------------------------------------------------------------------\u001b[0m",
      "\u001b[1;31mFileNotFoundError\u001b[0m                         Traceback (most recent call last)",
      "\u001b[1;32m<ipython-input-5-96eefb2cf437>\u001b[0m in \u001b[0;36m<module>\u001b[1;34m\u001b[0m\n\u001b[0;32m     13\u001b[0m         \u001b[1;32melse\u001b[0m\u001b[1;33m:\u001b[0m\u001b[1;33m\u001b[0m\u001b[1;33m\u001b[0m\u001b[0m\n\u001b[0;32m     14\u001b[0m             \u001b[0mprint\u001b[0m\u001b[1;33m(\u001b[0m\u001b[1;34m\"not dir\"\u001b[0m\u001b[1;33m)\u001b[0m\u001b[1;33m\u001b[0m\u001b[1;33m\u001b[0m\u001b[0m\n\u001b[1;32m---> 15\u001b[1;33m             \u001b[0mbeh_path\u001b[0m\u001b[1;33m.\u001b[0m\u001b[0mmkdir\u001b[0m\u001b[1;33m(\u001b[0m\u001b[1;33m)\u001b[0m\u001b[1;33m\u001b[0m\u001b[1;33m\u001b[0m\u001b[0m\n\u001b[0m\u001b[0;32m     16\u001b[0m             \u001b[0mprint\u001b[0m\u001b[1;33m(\u001b[0m\u001b[1;34m\"made\"\u001b[0m\u001b[1;33m,\u001b[0m \u001b[0mbeh_path\u001b[0m\u001b[1;33m)\u001b[0m\u001b[1;33m\u001b[0m\u001b[1;33m\u001b[0m\u001b[0m\n\u001b[0;32m     17\u001b[0m \u001b[1;31m#     beh_path = Path(i) / animal_dict[j]\u001b[0m\u001b[1;33m\u001b[0m\u001b[1;33m\u001b[0m\u001b[1;33m\u001b[0m\u001b[0m\n",
      "\u001b[1;32m~\\Miniconda3\\envs\\headfix_behavior_data\\lib\\pathlib.py\u001b[0m in \u001b[0;36mmkdir\u001b[1;34m(self, mode, parents, exist_ok)\u001b[0m\n\u001b[0;32m   1311\u001b[0m         \"\"\"\n\u001b[0;32m   1312\u001b[0m         \u001b[1;32mtry\u001b[0m\u001b[1;33m:\u001b[0m\u001b[1;33m\u001b[0m\u001b[1;33m\u001b[0m\u001b[0m\n\u001b[1;32m-> 1313\u001b[1;33m             \u001b[0mself\u001b[0m\u001b[1;33m.\u001b[0m\u001b[0m_accessor\u001b[0m\u001b[1;33m.\u001b[0m\u001b[0mmkdir\u001b[0m\u001b[1;33m(\u001b[0m\u001b[0mself\u001b[0m\u001b[1;33m,\u001b[0m \u001b[0mmode\u001b[0m\u001b[1;33m)\u001b[0m\u001b[1;33m\u001b[0m\u001b[1;33m\u001b[0m\u001b[0m\n\u001b[0m\u001b[0;32m   1314\u001b[0m         \u001b[1;32mexcept\u001b[0m \u001b[0mFileNotFoundError\u001b[0m\u001b[1;33m:\u001b[0m\u001b[1;33m\u001b[0m\u001b[1;33m\u001b[0m\u001b[0m\n\u001b[0;32m   1315\u001b[0m             \u001b[1;32mif\u001b[0m \u001b[1;32mnot\u001b[0m \u001b[0mparents\u001b[0m \u001b[1;32mor\u001b[0m \u001b[0mself\u001b[0m\u001b[1;33m.\u001b[0m\u001b[0mparent\u001b[0m \u001b[1;33m==\u001b[0m \u001b[0mself\u001b[0m\u001b[1;33m:\u001b[0m\u001b[1;33m\u001b[0m\u001b[1;33m\u001b[0m\u001b[0m\n",
      "\u001b[1;31mFileNotFoundError\u001b[0m: [WinError 3] The system cannot find the path specified: 'C:\\\\Users\\\\jdelahanty.SNL\\\\Desktop\\\\testdir\\\\specialk\\\\learned_helplessness\\\\twop\\\\LHE011\\\\20210602'"
     ]
    }
   ],
   "source": [
    "lh_animal_path = Path(\"C:/Users/jdelahanty.SNL/Desktop/testdir/specialk/learned_helplessness/\")\n",
    "\n",
    "lh_animalgen = lh_animal_path.glob(\"*\")\n",
    "\n",
    "for i in animal_dict.keys():\n",
    "    for j in animal_dict[i]:\n",
    "        print(i, j)\n",
    "        \n",
    "        beh_path = lh_animal_path / \"twop\" / i / j\n",
    "        \n",
    "        if beh_path.is_dir():\n",
    "            print(\"dir\")\n",
    "        else:\n",
    "            print(\"not dir\")\n",
    "            beh_path.mkdir()\n",
    "            print(\"made\", beh_path)\n",
    "#     beh_path = Path(i) / animal_dict[j]\n",
    "# #     correct_name = re.search(pattern=\"(LHE\\d{3})\", string=i).group(1)\n",
    "# #     print(correct_name)\n",
    "#     if beh_path.is_dir():\n",
    "#         print(\"dir\")\n",
    "#     else:\n",
    "#         print(\"not dir\")\n",
    "    \n",
    "    "
   ]
  },
  {
   "cell_type": "code",
   "execution_count": 60,
   "id": "77495d1b-9804-4415-9466-5669895e2e25",
   "metadata": {},
   "outputs": [
    {
     "name": "stdout",
     "output_type": "stream",
     "text": [
      "not dir\n",
      "made dir\n",
      "not dir\n",
      "made dir\n",
      "not dir\n",
      "made dir\n",
      "not dir\n",
      "made dir\n",
      "not dir\n",
      "made dir\n",
      "not dir\n",
      "made dir\n",
      "not dir\n",
      "made dir\n"
     ]
    }
   ],
   "source": [
    "lh_animal_path = Path(\"C:/Users/jdelahanty.SNL/Desktop/testdir/specialk/learned_helplessness/\")\n",
    "\n",
    "lh_animalgen = lh_animal_path.glob(\"*\")\n",
    "\n",
    "for i in lh_animalgen:\n",
    "    vid_path = i / \"video\"\n",
    "    if vid_path.is_dir():\n",
    "        print(\"dir\")\n",
    "    else:\n",
    "        print(\"not dir\")\n",
    "        vid_path.mkdir()\n",
    "        print(\"made dir\")\n",
    "    \n",
    "    "
   ]
  },
  {
   "cell_type": "code",
   "execution_count": 61,
   "id": "0fdb7d19-06ad-4f4d-968a-1ce68bbc3819",
   "metadata": {},
   "outputs": [
    {
     "name": "stdout",
     "output_type": "stream",
     "text": [
      "not dir\n",
      "made dir\n",
      "not dir\n",
      "made dir\n",
      "not dir\n",
      "made dir\n",
      "not dir\n",
      "made dir\n",
      "not dir\n",
      "made dir\n",
      "not dir\n",
      "made dir\n",
      "not dir\n",
      "made dir\n"
     ]
    }
   ],
   "source": [
    "lh_animal_path = Path(\"C:/Users/jdelahanty.SNL/Desktop/testdir/specialk/learned_helplessness/\")\n",
    "\n",
    "lh_animalgen = lh_animal_path.glob(\"*\")\n",
    "\n",
    "for i in lh_animalgen:\n",
    "    mic_path = i / \"microscopy\"\n",
    "    if mic_path.is_dir():\n",
    "        print(\"dir\")\n",
    "    else:\n",
    "        print(\"not dir\")\n",
    "        mic_path.mkdir()\n",
    "        print(\"made dir\")\n",
    "    \n",
    "    "
   ]
  },
  {
   "cell_type": "code",
   "execution_count": 63,
   "id": "b536fe39-aa5e-4ddd-88b2-e4b3d2ce9514",
   "metadata": {},
   "outputs": [
    {
     "name": "stdout",
     "output_type": "stream",
     "text": [
      "dir\n",
      "dir\n",
      "dir\n",
      "dir\n",
      "dir\n",
      "dir\n",
      "dir\n"
     ]
    }
   ],
   "source": [
    "lh_animal_path = Path(\"C:/Users/jdelahanty.SNL/Desktop/testdir/specialk/learned_helplessness/\")\n",
    "\n",
    "lh_animalgen = lh_animal_path.glob(\"*\")\n",
    "\n",
    "for i in lh_animalgen:\n",
    "    config_dir = i / \"config\"\n",
    "    if config_dir.is_dir():\n",
    "        print(\"dir\")\n",
    "    else:\n",
    "        print(\"not dir\")\n",
    "        config_dir.mkdir()\n",
    "        print(\"made dir\")\n",
    "    \n",
    "    "
   ]
  },
  {
   "cell_type": "code",
   "execution_count": null,
   "id": "0d88c4ae-57a7-4f1c-b201-e4afd7d1fc5d",
   "metadata": {},
   "outputs": [],
   "source": []
  },
  {
   "cell_type": "code",
   "execution_count": null,
   "id": "af6b1837-9ce9-4005-8988-fd378c40e27d",
   "metadata": {},
   "outputs": [],
   "source": [
    "for i in all_gen:\n",
    "    i = Path(i).name\n",
    "    correct_name = re.search(pattern=\"(\\d{8}_LHE\\d{3}_plane\\d{1})\", string=i).group(1)\n",
    "    all_list.append(correct_name)\n",
    "\n",
    "has_csvgen = Path(base_dir).glob(\"*/raw/*.csv\")\n",
    "\n",
    "for j in has_csvgen:\n",
    "    j = Path(j).name\n",
    "    correct_name = re.search(pattern=\"(\\d{8}_LHE\\d{3}_plane\\d{1})\", string=j).group(1)\n",
    "    has_csv.append(correct_name)\n",
    "\n",
    "testset = set(all_list) - set(has_csv)\n",
    "\n",
    "print(len(all_list), len(has_csv), len(testset))\n",
    "print(len(all_list) - len(has_csv))\n",
    "print(testset)\n",
    "print(len(testset))\n",
    "\n",
    "pattern = \"(\\d{8})_(LHE\\d{3})_\""
   ]
  }
 ],
 "metadata": {
  "kernelspec": {
   "display_name": "Python 3",
   "language": "python",
   "name": "python3"
  },
  "language_info": {
   "codemirror_mode": {
    "name": "ipython",
    "version": 3
   },
   "file_extension": ".py",
   "mimetype": "text/x-python",
   "name": "python",
   "nbconvert_exporter": "python",
   "pygments_lexer": "ipython3",
   "version": "3.9.5"
  }
 },
 "nbformat": 4,
 "nbformat_minor": 5
}
