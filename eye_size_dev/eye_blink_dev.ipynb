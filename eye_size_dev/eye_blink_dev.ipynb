{
 "cells": [
  {
   "cell_type": "code",
   "execution_count": 1,
   "id": "7790b4cd-bf62-4422-b7a5-cb03dab5b66b",
   "metadata": {},
   "outputs": [],
   "source": [
    "import cv2\n",
    "import zarr\n",
    "from skimage import io"
   ]
  },
  {
   "cell_type": "code",
   "execution_count": 21,
   "id": "a3bcd063-ae4e-4493-8047-4326b6ddd843",
   "metadata": {},
   "outputs": [
    {
     "name": "stdout",
     "output_type": "stream",
     "text": [
      "Finished video reading\n",
      "Written zarr\n"
     ]
    }
   ],
   "source": [
    "cap = cv2.VideoCapture(\"C:/Users/jdelahanty.SNL/Desktop/20210710_CSC002_test1_plane0_wince.avi\")\n",
    "\n",
    "raw = []\n",
    "\n",
    "if (cap.isOpened() == False):\n",
    "    print(\"error\")\n",
    "else:\n",
    "    fps = int(cap.get(5))\n",
    "    frame_count = cap.get(7)\n",
    "\n",
    "counter = 0\n",
    "\n",
    "while cap.isOpened() is True:\n",
    "    ret, frame = cap.read()\n",
    "    if ret is True:\n",
    "        raw.append(frame)\n",
    "        counter += 1\n",
    "    else:\n",
    "        break\n",
    "\n",
    "print(\"Finished video reading\")\n",
    "\n",
    "f_out = zarr.open(\"C:/Users/jdelahanty.SNL/Desktop/wince_zarr\", \"w\")\n",
    "\n",
    "ds_out = f_out.create_dataset(name=\"raw\",\n",
    "                             data=raw,\n",
    "                             compressor=zarr.get_codec({\n",
    "                                 \"id\": \"gzip\",\n",
    "                                 \"level\" : 5}))\n",
    "print(\"Written zarr\")\n",
    "\n",
    "ds_out.attrs[\"resolution\"] = [1,1,1]\n",
    "ds_out.attrs[\"offset\"] = [0,0,0]"
   ]
  },
  {
   "cell_type": "code",
   "execution_count": null,
   "id": "d1a0cc0e-b353-40d4-9ad7-39495c0d17bf",
   "metadata": {},
   "outputs": [],
   "source": [
    "cap = cv2.VideoCapture(\"C:/Users/jdelahanty.SNL/Desktop/20210710_CSC002_test1_plane0_wince.avi\")"
   ]
  }
 ],
 "metadata": {
  "kernelspec": {
   "display_name": "Python 3",
   "language": "python",
   "name": "python3"
  },
  "language_info": {
   "codemirror_mode": {
    "name": "ipython",
    "version": 3
   },
   "file_extension": ".py",
   "mimetype": "text/x-python",
   "name": "python",
   "nbconvert_exporter": "python",
   "pygments_lexer": "ipython3",
   "version": "3.9.5"
  }
 },
 "nbformat": 4,
 "nbformat_minor": 5
}
