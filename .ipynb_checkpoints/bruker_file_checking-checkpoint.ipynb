{
 "cells": [
  {
   "cell_type": "code",
   "execution_count": 62,
   "id": "37538715-1071-48a9-a401-1713d087813f",
   "metadata": {},
   "outputs": [],
   "source": [
    "# Headfix Behavior Data Analysis Playground\n",
    "# Jeremy Delahanty June 2021\n",
    "\n",
    "# Import packages\n",
    "import pandas as pd\n",
    "import json\n",
    "import re\n",
    "import glob\n",
    "import matplotlib.pyplot as plt\n",
    "from pathlib import Path"
   ]
  },
  {
   "cell_type": "code",
   "execution_count": 50,
   "id": "d866e587-d43c-48ee-a84c-141ad38c79a0",
   "metadata": {},
   "outputs": [
    {
     "name": "stderr",
     "output_type": "stream",
     "text": [
      "C:\\Users\\jdelahanty.SNL\\Miniconda3\\envs\\headfix_behavior_data\\lib\\site-packages\\numpy\\lib\\arraysetops.py:583: FutureWarning: elementwise comparison failed; returning scalar instead, but in the future will perform elementwise comparison\n",
      "  mask |= (ar1 == a)\n",
      "C:\\Users\\jdelahanty.SNL\\Miniconda3\\envs\\headfix_behavior_data\\lib\\site-packages\\IPython\\core\\pylabtools.py:132: UserWarning: Creating legend with loc=\"best\" can be slow with large amounts of data.\n",
      "  fig.canvas.print_figure(bytes_io, **kw)\n"
     ]
    },
    {
     "data": {
      "image/png": "[encoded data removed]",
      "text/plain": [
       "<Figure size 432x288 with 1 Axes>"
      ]
     },
     "metadata": {
      "needs_background": "light"
     },
     "output_type": "display_data"
    }
   ],
   "source": [
    "behavior_datadirs = \"C:/Users/jdelahanty.SNL/Desktop/testdir/behavior/*/raw/*.csv\"\n",
    "config_datadirs = \"C:/Users/jdelahanty.SNL/Desktop/testdir/config/*\"\n",
    "\n",
    "# Get voltage recording files into a list\n",
    "# voltage_recording = glob.glob(\"Y:\\specialk/behavior/*\")\n",
    "\n",
    "voltage_recordings = glob.glob(behavior_datadirs)\n",
    "configs = glob.glob(config_datadirs)\n",
    "\n",
    "# Load the csv into a pandas dataframe\n",
    "test = pd.read_csv(voltage_recordings[0], index_col=\"Time(ms)\")\n",
    "\n",
    "# Strip away whitespace in the columns created in .csv by Bruker\n",
    "test = test.rename(columns=lambda x: x.strip())\n",
    "\n",
    "# Filter dataset to have all values below 3V turned to 0\n",
    "test = test > 3\n",
    "\n",
    "# Convert dataset to integer type, not float\n",
    "test = test.astype(int)\n",
    "\n",
    "# Use pandas.diff() to take get start/stop of each signal\n",
    "test = test.diff()\n",
    "\n",
    "# Set any NaN values to 0\n",
    "test = test.fillna(0)\n",
    "\n",
    "# Remove negative values for licks\n",
    "test.Lick = test.Lick > 0\n",
    "\n",
    "plt.plot(test.index, test[\"Lick\"])\n",
    "plt.plot(test.index, test[\"Liquid\"])\n",
    "plt.plot(test.index, test[\"Airpuff\"])\n",
    "plt.plot(test.index, test[\"Speaker\"])\n",
    "\n",
    "plt.legend([\"lick\", \"liquid\", \"airpuff\", \"speaker\"])\n",
    "plt.show()"
   ]
  },
  {
   "cell_type": "code",
   "execution_count": 53,
   "id": "f986fd4d-0aa2-4c81-a8cf-796346278ced",
   "metadata": {},
   "outputs": [
    {
     "name": "stdout",
     "output_type": "stream",
     "text": [
      "31\n"
     ]
    }
   ],
   "source": [
    "print(sum(test.Lick == 1))"
   ]
  },
  {
   "cell_type": "code",
   "execution_count": 54,
   "id": "8ff78e08-069d-4181-80c0-72b287216fc1",
   "metadata": {},
   "outputs": [
    {
     "name": "stdout",
     "output_type": "stream",
     "text": [
      "40\n"
     ]
    }
   ],
   "source": [
    "print(sum(test.Liquid == 1))"
   ]
  },
  {
   "cell_type": "code",
   "execution_count": 58,
   "id": "77099be9-7dfa-4ad2-9c57-0f49ed8e21a4",
   "metadata": {},
   "outputs": [
    {
     "name": "stdout",
     "output_type": "stream",
     "text": [
      "0\n"
     ]
    }
   ],
   "source": [
    "print(sum(test.Airpuff == 1))"
   ]
  },
  {
   "cell_type": "code",
   "execution_count": 57,
   "id": "86f82d4c-8bda-4fa7-b8f4-760a12029b38",
   "metadata": {},
   "outputs": [
    {
     "name": "stdout",
     "output_type": "stream",
     "text": [
      "40\n"
     ]
    }
   ],
   "source": [
    "print(sum(test.Speaker == 1))"
   ]
  },
  {
   "cell_type": "code",
   "execution_count": 162,
   "id": "e162ff56-2ef4-49b8-bf91-f2da55520b7c",
   "metadata": {},
   "outputs": [
    {
     "name": "stdout",
     "output_type": "stream",
     "text": [
      "All animals present\n",
      "['LHE011', 'LHE012', 'LHE013', 'LHE014', 'LHE015', 'LHE016'] ['LHE011', 'LHE012', 'LHE013', 'LHE014', 'LHE015', 'LHE016'] ['20210603', '20210603', '20210603', '20210603', '20210603', '20210603', '20210604', '20210604', '20210604', '20210604', '20210604', '20210604', '20210605', '20210605', '20210605', '20210605', '20210605', '20210605', '20210606', '20210606', '20210606', '20210606', '20210606', '20210607', '20210607', '20210608', '20210609', '20210609', '20210609', '20210609', '20210610', '20210610', '20210610', '20210610', '20210610', '20210611', '20210611', '20210611', '20210612']\n"
     ]
    }
   ],
   "source": [
    "pattern = \"(\\d{8})_(LHE\\d{3})_\"\n",
    "\n",
    "voltage_recordings = glob.glob(behavior_datadirs)\n",
    "configs = glob.glob(config_datadirs)\n",
    "\n",
    "behavior_animal_list = []\n",
    "config_animal_list = []\n",
    "behavior_dates = []\n",
    "config_dates = []\n",
    "\n",
    "for i, j in voltage_recordings, configs:\n",
    "    i, j = Path(i).name, Path(j).name\n",
    "    session_date, config_date = re.search(pattern=pattern, string=i).group(1),\n",
    "                                re.search(pattern=pattern, string=j).group(1)\n",
    "    behavior_dates.append(session)\n",
    "    animal_id = re.search(pattern=pattern, string=i).group(2)\n",
    "    behavior_animal_list.append(animal_id)\n",
    "\n",
    "animal_list = set(animal_list)\n",
    "animal_list = sorted(list(animal_list))\n",
    "\n",
    "config_animal_list = []\n",
    "for j in configs:\n",
    "    j = Path(j).name\n",
    "    y = re.search(pattern=pattern, string=j).group(2)\n",
    "    config_animal_list.append(y)\n",
    "    \n",
    "\n",
    "config_list = set(config_list)\n",
    "config_list = sorted(list(config_list))\n",
    "\n",
    "if animal_list == config_list:\n",
    "    print(\"All animals present\")\n",
    "    \n",
    "print(animal_list, config_list, behavior_dates)"
   ]
  },
  {
   "cell_type": "code",
   "execution_count": 157,
   "id": "fc525ce7-ee11-4c59-a6da-8f65e1fbe0cd",
   "metadata": {},
   "outputs": [
    {
     "name": "stdout",
     "output_type": "stream",
     "text": [
      "['20210602_LHE011_plane0-034', '20210602_LHE012_plane0-036', '20210602_LHE013_plane0-037', '20210602_LHE014_plane0-038', '20210602_LHE015_plane0-039', '20210602_LHE016_plane0-040', '20210603_LHE011_plane0-042', '20210603_LHE012_plane0-043', '20210603_LHE013_plane0-044', '20210603_LHE014_plane0-045', '20210603_LHE015_plane0-046', '20210603_LHE016_plane0-047', '20210604_LHE011_plane0-048', '20210604_LHE012_plane0-049', '20210604_LHE013_plane0-051', '20210604_LHE014_plane0-052', '20210604_LHE015_plane0-053', '20210604_LHE016_plane0-055', '20210605_LHE011_plane0-056', '20210605_LHE012_plane0-057', '20210605_LHE013_plane0-058', '20210605_LHE014_plane0-059', '20210605_LHE015_plane0-060', '20210605_LHE016_plane0-061', '20210606_LHE012_plane0-063', '20210606_LHE013_plane0-064', '20210606_LHE014_plane0-065', '20210606_LHE015_plane0-066', '20210606_LHE016_plane0-067', '20210607_LHE011_plane0-070', '20210607_LHE012_plane0-069', '20210608_LHE011_plane0-071', '20210609_LHE013_plane0-072', '20210609_LHE014_plane0-073', '20210609_LHE015_plane0-074', '20210609_LHE016_plane0-075', '20210610_LHE012_plane0-078', '20210610_LHE013_plane0-076', '20210610_LHE014_plane0-077', '20210610_LHE015_plane0-079', '20210610_LHE016_plane0-080', '20210611_LHE011_plane0-081', '20210611_LHE012_plane0-082', '20210611_LHE015_10psi_plane0-083', '20210612_LHE011_plane0-084']\n"
     ]
    }
   ],
   "source": [
    "need_csv = []\n",
    "has_csv = []\n",
    "big_list = []\n",
    "base_dir = \"C:/Users/jdelahanty.SNL/Desktop/testdir/behavior\"\n",
    "\n",
    "dir_gen = Path(base_dir).glob(\"*\")\n",
    "for i in dir_gen:\n",
    "    big_list.append(i.name)\n",
    "    \n",
    "print(big_list)\n",
    "# gener = glob.glob(mydir)\n",
    "\n",
    "# for i in gener:\n",
    "#     print(i)\n",
    "#     x = Path(i).glob(\"*.csv\")\n",
    "#     for j in x:\n",
    "#         has_csv.append(j.name)\n",
    "\n",
    "# for i in \n",
    "# print(has_csv)\n",
    "#     #     if Path(i).glob(\"*.csv\") is None:\n",
    "# #         print(\"No csv\")\n"
   ]
  },
  {
   "cell_type": "code",
   "execution_count": null,
   "id": "36f617da-3d05-4994-ace8-a8049c91db0c",
   "metadata": {},
   "outputs": [],
   "source": []
  }
 ],
 "metadata": {
  "kernelspec": {
   "display_name": "Python 3",
   "language": "python",
   "name": "python3"
  },
  "language_info": {
   "codemirror_mode": {
    "name": "ipython",
    "version": 3
   },
   "file_extension": ".py",
   "mimetype": "text/x-python",
   "name": "python",
   "nbconvert_exporter": "python",
   "pygments_lexer": "ipython3",
   "version": "3.9.5"
  }
 },
 "nbformat": 4,
 "nbformat_minor": 5
}
