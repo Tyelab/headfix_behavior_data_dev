{
 "cells": [
  {
   "cell_type": "markdown",
   "id": "13e79f5a-afdd-4b77-a0cc-e9a072fb697f",
   "metadata": {},
   "source": [
    "# Bruker Data Grepping and Alignment Notebook\n",
    "### Jeremy Delahanty June 2021\n",
    "\n",
    "Intended to grep different files/projects/datasets from user input and retain them for use in analysis/display later. The lack of unified filenaming structures between projects will break the code... A convetion of XXX### for animal names has been established for Austin's projects"
   ]
  },
  {
   "cell_type": "code",
   "execution_count": 6,
   "id": "236756af-545f-4c82-bfc7-7f22a45d8a80",
   "metadata": {
    "tags": []
   },
   "outputs": [],
   "source": [
    "# Import packages\n",
    "from pathlib import Path\n",
    "import pathlib\n",
    "import glob\n",
    "import re\n",
    "import json\n",
    "import numpy as np\n",
    "import matplotlib.pyplot as plt\n",
    "import warnings\n",
    "from pynwb import NWBFile, TimeSeries, NWBHDF5IO\n",
    "from typing import Tuple\n",
    "warnings.simplefilter(action='ignore', category=FutureWarning)\n",
    "from datetime import datetime\n",
    "from dateutil.tz import tzlocal\n",
    "\n",
    "import pandas as pd\n",
    "\n"
   ]
  },
  {
   "cell_type": "code",
   "execution_count": 2,
   "id": "def109c7-4a96-41a8-b0c5-a66ab01b0f4f",
   "metadata": {},
   "outputs": [],
   "source": [
    "lab_basepath = \"Y:/\"\n",
    "# project_dict = {\"specialk\": [\"learned_helplessness\", \"chronic_mild_stress\"]}"
   ]
  },
  {
   "cell_type": "code",
   "execution_count": 10,
   "id": "62578e70-c52a-4a7e-9d62-b7c5d0b02268",
   "metadata": {},
   "outputs": [
    {
     "name": "stdout",
     "output_type": "stream",
     "text": [
      "Found All Selected Teams\n",
      "Teams Returned:\n",
      "specialk \n"
     ]
    }
   ],
   "source": [
    "def grep_teams(team_selection: list = None, lab_basepath: Path = Path(\"Y:/\")) -> Tuple[list, list]:\n",
    "    \"\"\"\n",
    "    Grabs team list from server based on user's input.\n",
    "    \n",
    "    User can define which teams they want to use for their analyses and\n",
    "    the function will glob the paths for their selection.\n",
    "    \n",
    "    Args:\n",
    "        team_selection:\n",
    "            List of strings for teams of interest\n",
    "            Default is empty list\n",
    "        lab_basepath:\n",
    "            Basepath for server location on machine\n",
    "            Default is Y:/ for mapped Windows drive\n",
    "    \n",
    "    \n",
    "    Returns:\n",
    "        team_list:\n",
    "            List of team path grabbed from server successfully\n",
    "        missing_teams:\n",
    "            List of selected teams that were not found\n",
    "    \"\"\"\n",
    "\n",
    "    # Take basepath and glob all available files and directories\n",
    "    team_glob = Path(lab_basepath).glob(\"*\")\n",
    "    \n",
    "    # Check if no team was specifically asked for, tell user we're gathering all teams\n",
    "    if team_selection == []:\n",
    "\n",
    "        print(\"Gathering all teams...\")\n",
    "\n",
    "        # List comprehension for returning all directories in Tye Lab server\n",
    "        team_list = [team for team in team_glob if team.is_dir()]\n",
    "\n",
    "    else:\n",
    "        \n",
    "        # List comprehension for returning only directories user wants in the Tye Lab server \n",
    "        team_list = [team for team in team_glob if team.name in team_selection and team.is_dir()]\n",
    "    \n",
    "    # Create temporary list for checking if selected teams exist\n",
    "    tmp = []\n",
    "\n",
    "    # For the teams that were globbed successfully, append the team to the temp list\n",
    "    for globbed_team in team_list:\n",
    "        tmp.append(globbed_team.name)\n",
    "    \n",
    "    # Compare team selection with returned teams using sets, convert to list\n",
    "    missing_teams = list(set(team_selection) - set(tmp))\n",
    "    \n",
    "    # If the missing_teams list is empty, the program found all requested teams\n",
    "    if missing_teams == []:\n",
    "        print(\"Found All Selected Teams\")\n",
    "    \n",
    "    # Else, some teams weren't found. Tell the user which teams weren't found.\n",
    "    else:\n",
    "        print(\"Failed to find team(s):\", missing_teams)\n",
    "   \n",
    "    # Show user which teams were returned\n",
    "    print(\"Teams Returned:\")\n",
    "    for team in team_list:\n",
    "        print(\"{} \".format(team.name))\n",
    "    \n",
    "    # Return the list of projects gathered\n",
    "    return team_list, missing_teams\n",
    "\n",
    "team_list, missing_teams = grep_teams([\"specialk\"])"
   ]
  },
  {
   "cell_type": "code",
   "execution_count": 7,
   "id": "d47d606e-6e66-4ffb-a644-1af2834b8e5b",
   "metadata": {},
   "outputs": [
    {
     "name": "stdout",
     "output_type": "stream",
     "text": [
      "Returned Directories: \n",
      "Y:\\specialk\\learned_helplessness\n"
     ]
    }
   ],
   "source": [
    "def choose_projects(team_list, project_selection={}):\n",
    "    \"\"\"\n",
    "    Generates project paths list based on user's selection.\n",
    "    \n",
    "    User can define which project they want to use for their analyses and\n",
    "    this function generates the paths for their selection.\n",
    "    \n",
    "    Parameters\n",
    "    ----------\n",
    "    arg1: list\n",
    "        List of strings for teams of interest from grep_teams()\n",
    "    arg2: dict\n",
    "        Dictionary of values that will be used to create specific\n",
    "        paths for selected teams and their projects\n",
    "    \n",
    "    Returns\n",
    "    -------\n",
    "    1. list\n",
    "        List of team/project Paths to grep in next steps\n",
    "    \"\"\"\n",
    "\n",
    "    # Make dictionary using the teams in team_list as keys\n",
    "    project_dict = {team: [] for team in team_list}\n",
    "\n",
    "    # For each time in the team_list, append the Path name's project's values\n",
    "    for team in team_list:\n",
    "        project_dict[team].append(project_selection[team.name])\n",
    "    \n",
    "    # Make empty project list\n",
    "    project_dir_list = []\n",
    "\n",
    "    for team in project_dict.keys():\n",
    "        for project in range(len(project_dict[team][0])):\n",
    "            project_dir_list.append(team / project_dict[team][0][project])\n",
    "    \n",
    "    print(\"Returned Directories: \")\n",
    "\n",
    "    for directory in project_dir_list:\n",
    "        print(directory)\n",
    "    \n",
    "    return project_dir_list\n",
    "    \n",
    "project_list = choose_projects(team_list, project_selection={\"specialk\": [\"learned_helplessness\"]})"
   ]
  },
  {
   "cell_type": "code",
   "execution_count": 9,
   "id": "d6c423b7-92e8-45ba-9af8-4103534166d4",
   "metadata": {},
   "outputs": [
    {
     "name": "stdout",
     "output_type": "stream",
     "text": [
      "Grabbing only E animals...\n",
      "learned_helplessness LHE011\n",
      "learned_helplessness LHE012\n",
      "learned_helplessness LHE013\n",
      "learned_helplessness LHE014\n",
      "learned_helplessness LHE015\n",
      "learned_helplessness LHE016\n"
     ]
    }
   ],
   "source": [
    "def choose_animals(project_list, animal_group=\"all\"):\n",
    "    \"\"\"\n",
    "    Generates animal paths list based on user's selection.\n",
    "    \n",
    "    User can define which cohort of animals they want to use \n",
    "    for their analyses. This function generates the paths for \n",
    "    their selection that meet specified conditions.\n",
    "    \n",
    "    Args:\n",
    "\n",
    "        project_list:\n",
    "            List of strings for projects of interest from choose_projects()\n",
    "        animal_group:\n",
    "            String of value for which animal paths to gather.\n",
    "            Default value is all.\n",
    "    \n",
    "    Returns:\n",
    "    \n",
    "        list: List of team/project/animal Paths to grep in next steps\n",
    "    \"\"\"\n",
    "    \n",
    "    # Create empty animal list for path generation\n",
    "    animal_list = []\n",
    "    \n",
    "    # If the animal group is left as default/specified as all, grab all animals\n",
    "    if animal_group == \"all\":\n",
    "        print(\"Grabbing all animals...\")\n",
    "        \n",
    "        # For each project directory in the project list\n",
    "        for project_dir in project_list:\n",
    "            \n",
    "            # For each animal globbed in the project directory\n",
    "            for animal in project_dir.glob(\"*\"):\n",
    "                \n",
    "                # Append the animal's path to the animal_list\n",
    "                print(project_dir.name, animal.name)\n",
    "                animal_list.append(animal)\n",
    "    \n",
    "    # Else, only select animals from the specified group\n",
    "    else:\n",
    "        print(\"Grabbing only {} animals...\".format(animal_group))\n",
    "\n",
    "        # Format the animal group with the user's input\n",
    "        animal_group = \"[A-Z]{2}\" + animal_group + \"\\d{3}\"\n",
    "        \n",
    "        # For each project_directory in project_list\n",
    "        for project_dir in project_list:\n",
    "\n",
    "            # For each animal globbed in project directory\n",
    "            for animal in project_dir.glob(\"*\"):\n",
    "                \n",
    "                # Use regex to grab only the requested animal\n",
    "                r = re.search(animal_group, string=animal.name)\n",
    "                \n",
    "                # If the search returns None, the animal didn't match the request\n",
    "                # Skip over it with pass.\n",
    "                if r is None:\n",
    "                    pass\n",
    "                \n",
    "                # If something is returned, take the match object's value and append\n",
    "                # the animal to the project directory.\n",
    "                else:\n",
    "                    print(project_dir.name, r.group(0))\n",
    "                    animal_list.append(project_dir / r.group(0))\n",
    "    \n",
    "    # Finally, return the list of animals\n",
    "    return animal_list\n",
    "\n",
    "animal_list = choose_animals(project_list, animal_group=\"E\")"
   ]
  },
  {
   "cell_type": "code",
   "execution_count": 10,
   "id": "c7f50cbd-7489-476a-bc55-90794f3092d1",
   "metadata": {},
   "outputs": [
    {
     "name": "stdout",
     "output_type": "stream",
     "text": [
      "Grabbing specified directories... \n",
      " ['twop']\n",
      "\n",
      "Returning Directories:\n",
      "Y:\\specialk\\learned_helplessness\\LHE011\\twop\n",
      "Y:\\specialk\\learned_helplessness\\LHE012\\twop\n",
      "Y:\\specialk\\learned_helplessness\\LHE013\\twop\n",
      "Y:\\specialk\\learned_helplessness\\LHE014\\twop\n",
      "Y:\\specialk\\learned_helplessness\\LHE015\\twop\n",
      "Y:\\specialk\\learned_helplessness\\LHE016\\twop\n"
     ]
    }
   ],
   "source": [
    "def choose_data(animal_list, data_group=[], verbose=True):\n",
    "    \"\"\"\n",
    "    Generates animal's data paths list based on user's selection.\n",
    "    \n",
    "    User can define which dataset to use for the animals they \n",
    "    want to use for their analyses. This function generates the\n",
    "    paths for their selection that meet specified conditions.\n",
    "    \n",
    "    Parameters\n",
    "    ----------\n",
    "    arg1: list\n",
    "        List of paths for animals of interest from choose_animals()\n",
    "    arg2: list\n",
    "        List of strings for which datasets to gather.\n",
    "        Default value is all.\n",
    "    arg3: bool\n",
    "        Boolean argument for verbose output of paths found or\n",
    "        not found by the function. Default is True.\n",
    "    \n",
    "    Returns\n",
    "    -------\n",
    "    1. list\n",
    "        List of team/project/animal/dataset Paths to grep in\n",
    "        next steps\n",
    "    \"\"\"\n",
    "    \n",
    "    # Create empty data list for path generation\n",
    "    data_dir_list = []\n",
    "    \n",
    "    # If data_group is left as default or specified as empty,\n",
    "    # grab all folders\n",
    "    if data_group == []:\n",
    "        print(\"Grabbing all data folders...\")\n",
    "        \n",
    "        # For each animal in the animal list\n",
    "        for animal in animal_list:\n",
    "            \n",
    "            # For the data_dir in the globbed animal_path\n",
    "            for data_dir in animal.glob(\"*\"):\n",
    "                \n",
    "                # Append the data_dir to the data_list\n",
    "                print(\"Grabbing\", animal.name, data_dir.name)\n",
    "                data_list.append(data)\n",
    "    \n",
    "    #TODO: Make verbose into its own function\n",
    "    elif len(data_group) > 0 and verbose is True:\n",
    "        print(\"Grabbing...\")\n",
    "        for data_type in data_group:\n",
    "            print(data_type, \"data\")\n",
    "\n",
    "        print(\"\\nFrom Projects(s)...\")\n",
    "        project_list = list(set([project.parent.name for project in animal_list]))\n",
    "        for project in project_list:\n",
    "            print(project)\n",
    "            \n",
    "        print(\"\\nIn Team(s)...\")\n",
    "        team_list = list(set([team.parent.parent.name for team in animal_list]))\n",
    "        for team in team_list:\n",
    "            print(team)\n",
    "        print(\"\\nFor Animals...\")\n",
    "        for animal in animal_list:\n",
    "            print(animal.name)\n",
    "        \n",
    "        print(\"\\nChecking for directories...\")\n",
    "        for animal in animal_list:\n",
    "            for data_type in data_group:\n",
    "                if (animal / data_type).is_dir():\n",
    "                    print(\"Found\", animal.name, data_type)\n",
    "                    data_dir_list.append(animal / data_type)\n",
    "                else:\n",
    "                    print(\"Not Found!\", animal.name, data_type)\n",
    "    else:\n",
    "       \n",
    "        #TODO: Write a function for checking\n",
    "        print(\"Grabbing specified directories...\", \"\\n\", data_group)\n",
    "        \n",
    "        for animal in animal_list:\n",
    "            for data_type in data_group:\n",
    "                if (animal / data_type).is_dir():\n",
    "                    data_dir_list.append(animal / data_type)\n",
    "                else:\n",
    "                    print(animal.name, data_type, \"Not Found!\")\n",
    "    \n",
    "    # Tell user which directories were returned\n",
    "    print(\"\\nReturning Directories:\")\n",
    "    for data_dir in data_dir_list:\n",
    "        print(data_dir)\n",
    "\n",
    "    return data_dir_list\n",
    "                \n",
    "\n",
    "data_dir_list = choose_data(animal_list, data_group=[\"twop\"], verbose=False)"
   ]
  },
  {
   "cell_type": "code",
   "execution_count": 11,
   "id": "ac8d9c09-abd4-4bd3-ab54-11c010d7ce30",
   "metadata": {
    "tags": []
   },
   "outputs": [
    {
     "name": "stdout",
     "output_type": "stream",
     "text": [
      "WARNING!!! LHE011 twop 20210602 raw data not converted!\n"
     ]
    }
   ],
   "source": [
    "def grep_twop_raw_behavior_data(data_directory, convert_missing_data=False, verbose=False):\n",
    "    \"\"\"\n",
    "    Checks whether raw 2P behavior data has been converted to .csv for all available days.\n",
    "    \n",
    "    Parameters\n",
    "    ----------\n",
    "    arg1: Path\n",
    "        Parent directory of raw behavior data file\n",
    "        \n",
    "    arg2: bool\n",
    "        Whether to invoke raw data file conversion through Bruker's raw converter\n",
    "        Default False; no containerized ripper is in place (7/29/21)...\n",
    "        \n",
    "    arg3: bool\n",
    "        Whether to print checking process for the user.\n",
    "        Default True\n",
    "        \n",
    "    Returns\n",
    "    -------\n",
    "    1. list\n",
    "        Existing raw behavior data file paths \n",
    "    \"\"\"\n",
    "    \n",
    "    checked_behavior_file_list = []\n",
    "    \n",
    "    missing_behavior_dir_list = []\n",
    "    \n",
    "    raw_behavior_dir_search = data_directory.glob(\"*/*\")\n",
    "    \n",
    "    raw_behavior_dir_dict = {result.parent : [file for file in result.glob(\"*.csv\")] for result in raw_behavior_dir_search if result.is_dir()}\n",
    "    \n",
    "    if verbose is True:\n",
    "        for key in raw_behavior_dir_dict:\n",
    "            print(\"\\nChecking if\", key.parents[1].name, key.parents[0].name, key.name, \"raw behavior is converted...\")\n",
    "            if len(raw_behavior_dir_dict[key]) == 0:\n",
    "                print(\"\\nWARNING!!!\", key.parents[1].name, key.parents[0].name, key.name, \"raw behavior not converted!\")\n",
    "                missing_behavior_dir_list.append(raw_behavior_dir_dict[key])\n",
    "            else:\n",
    "                print(key.parents[1].name, key.parents[0].name, key.name,  \"raw behavior converted!\")\n",
    "                checked_behavior_file_list.append(raw_behavior_dir_dict[key][0])\n",
    "                \n",
    "        print(\"\\nReturning checked files:\")\n",
    "        for file in checked_behavior_file_list:\n",
    "            print(file)\n",
    "            \n",
    "        \n",
    "    else:\n",
    "        # TODO: This should be a warning/exception that is logged and/or saved somewhere maybe...\n",
    "        for key in raw_behavior_dir_dict:\n",
    "            if len(raw_behavior_dir_dict[key]) == 0:\n",
    "                print(\"WARNING!!!\", key.parents[1].name, key.parents[0].name, key.name, \"raw data not converted!\")\n",
    "            else:\n",
    "                checked_behavior_file_list.append(raw_behavior_dir_dict[key][0])\n",
    "\n",
    "    return checked_behavior_file_list\n",
    "\n",
    "checked_behavior_file_list = grep_twop_raw_behavior_data(data_dir_list[0])"
   ]
  },
  {
   "cell_type": "code",
   "execution_count": 16,
   "id": "bfc20455-f1b0-4bcf-a4da-e01cbb3bc054",
   "metadata": {},
   "outputs": [],
   "source": [
    "def grep_twop_behavior_config(checked_behavior_file_list):\n",
    "    \"\"\"\n",
    "    Generates animal's configuration paths list based on user's selection\n",
    "    \n",
    "    Parameters\n",
    "    ----------\n",
    "    arg1: list\n",
    "        List of paths for animals of interest from choose_data()\n",
    "    \n",
    "    Returns\n",
    "    -------\n",
    "    1. list\n",
    "        List of 2P behavior configuration Paths\n",
    "    \"\"\"\n",
    "    \n",
    "    twop_config_list = []\n",
    "    \n",
    "    for directory in checked_behavior_file_list:\n",
    "        parent_dir = directory.parents[1]\n",
    "        search = parent_dir.glob(\"*config.json\")\n",
    "        for result in search:\n",
    "            twop_config_list.append(result)\n",
    "            \n",
    "    return twop_config_list\n",
    "            \n",
    "twop_config_list = grep_twop_behavior_config(checked_behavior_file_list)"
   ]
  },
  {
   "cell_type": "code",
   "execution_count": 25,
   "id": "e0c8ee8d-0fa3-4179-9edd-94401e503196",
   "metadata": {
    "tags": []
   },
   "outputs": [
    {
     "name": "stdout",
     "output_type": "stream",
     "text": [
      "Cleaning: 20210611_LHE011_plane0-081_Cycle00001_VoltageRecording_001.csv\n",
      "Wall time: 1.93 s\n"
     ]
    }
   ],
   "source": [
    "%%time\n",
    "def clean_2p_behavior(twop_raw_behavior_file, raw_keys=[\"Lick\", \"Airpuff\", \"Liquid\", \"Speaker\"], df_keys=[\"on\", \"off\"]):\n",
    "    \"\"\"\n",
    "    Takes in raw 2P behavior file produced by Bruker and generates timestamps for all events.\n",
    "    \n",
    "    Parameters\n",
    "    ----------\n",
    "    arg1: Path\n",
    "        Path to raw behavior data\n",
    "    arg2: list\n",
    "        List of raw data keys to clean\n",
    "        Default is Lick, Airpuff, Liquid, and Speaker data\n",
    "    arg3: list\n",
    "        List of keys to create for dataframe\n",
    "        Default is onset AND offset of each event\n",
    "    \n",
    "    Returns\n",
    "    -------\n",
    "    1. dict\n",
    "        Dictionary containing timestamps for stimuli\n",
    "    2. dict\n",
    "        Dictionary containing timestamps for behavior\n",
    "        \n",
    "    \"\"\"\n",
    "\n",
    "    # Create list of requested keys by concatenating each value in the raw and df keys arguments\n",
    "    requested_keys = []\n",
    "    \n",
    "    for raw_key in raw_keys:\n",
    "        for df_key in df_keys:\n",
    "            requested_keys.append(raw_key + \"_\" + df_key)\n",
    "    \n",
    "    \n",
    "    # Do the cleaning for the supplied raw data file\n",
    "    # Tell the user which file is being processed\n",
    "    print(\"Cleaning:\", twop_raw_behavior_file.name)\n",
    "\n",
    "    # Adapting code by Kyle Fischer, June 2021 thru line 44\n",
    "    # Read the raw .csv from Bruker's Voltage Recording\n",
    "    raw_behavior_df = pd.read_csv(twop_raw_behavior_file, index_col=\"Time(ms)\").rename(columns=lambda col:col.strip())\n",
    "\n",
    "    # Any value below 3V is certainly noise.  Set them to zero by filtering the raw dataframe\n",
    "    raw_behavior_df = raw_behavior_df > 3\n",
    "\n",
    "    # Convert all values to int for pandas.DataFrame.diff() to yield negative values for stop times\n",
    "    # and then perform the .diff() function and finally use .fillna() to eliminate NaN values\n",
    "    raw_behavior_df = raw_behavior_df.astype(int).diff().fillna(0)\n",
    "\n",
    "    # Create empty dictionary for cleaned timestamps\n",
    "    clean_stimuli_dict = {}\n",
    "    clean_behavior_dict = {}\n",
    "    \n",
    "    stimuli_keys = [key for key in requested_keys if \"Lick\" not in key]\n",
    "    behavior_keys = [key for key in requested_keys if \"Lick\" in key]\n",
    "\n",
    "    # Query the raw datafile for each condition.  1 represents \"On\" signal while -1 represents \"Off\"\n",
    "    for key in stimuli_keys:\n",
    "        if \"on\" in key:\n",
    "            clean_stimuli_dict[key] = raw_behavior_df.query(key.split(\"_\")[0] + \" == 1\").index.tolist()\n",
    "        else:\n",
    "            clean_stimuli_dict[key] = raw_behavior_df.query(key.split(\"_\")[0] + \" == -1\").index.tolist()\n",
    "    \n",
    "    for key in behavior_keys:\n",
    "        if \"on\" in key:\n",
    "            clean_behavior_dict[key] = raw_behavior_df.query(key.split(\"_\")[0] + \" == 1\").index.tolist()\n",
    "        else:\n",
    "            clean_behavior_dict[key] = raw_behavior_df.query(key.split(\"_\")[0] + \" == 1\").index.tolist()\n",
    "\n",
    "    return clean_stimuli_dict, clean_behavior_dict\n",
    "\n",
    "clean_stimuli_dict, clean_behavior_dict = clean_2p_behavior(checked_behavior_file_list[5])"
   ]
  },
  {
   "cell_type": "code",
   "execution_count": 26,
   "id": "c5cc36b6-4fbe-4c74-95de-04088f310d50",
   "metadata": {
    "tags": []
   },
   "outputs": [
    {
     "name": "stdout",
     "output_type": "stream",
     "text": [
      "Wall time: 52 ms\n"
     ]
    }
   ],
   "source": [
    "%%time\n",
    "def get_2p_trialtypes(twop_config_file):\n",
    "    \"\"\"\n",
    "    Takes in twop configuration file and gives trial types\n",
    "    \n",
    "    Parameters\n",
    "    ----------\n",
    "    arg1: Path\n",
    "        Path two behavior configuration file\n",
    "    \n",
    "    Returns\n",
    "    -------\n",
    "    1. list\n",
    "        Gives list of trial types\n",
    "    \"\"\"\n",
    "    \n",
    "    # Open the json file using json package\n",
    "    with open(twop_config_file, \"r\") as inFile:\n",
    "\n",
    "        # Read the config file\n",
    "        config = inFile.read()\n",
    "\n",
    "        # Decode the file with json.loads()\n",
    "        config_contents = json.loads(config)\n",
    "\n",
    "        # Gather the trial types from the configuration\n",
    "        config_trial_types = config_contents[\"trialArray\"]\n",
    "        \n",
    "    return config_trial_types\n",
    "\n",
    "    \n",
    "config_trial_types = get_2p_trialtypes(twop_config_list[5])"
   ]
  },
  {
   "cell_type": "code",
   "execution_count": 27,
   "id": "b1af1d39-8210-42c6-8273-7fa0ffff36f9",
   "metadata": {
    "tags": []
   },
   "outputs": [],
   "source": [
    "def build_base_experiment_df(config_trial_types, clean_stimuli_dict):\n",
    "    \"\"\"\n",
    "    Creates trial DataFrame from configuration trial types\n",
    "    \n",
    "    Parameters\n",
    "    ----------\n",
    "    arg1: list\n",
    "        List of trial types obtained from get_2p_trialtypes()\n",
    "    \n",
    "    Returns\n",
    "    -------\n",
    "    1. Pandas DataFrame\n",
    "        Returns base dataframe of trial types\n",
    "    \"\"\"\n",
    "    \n",
    "    base_experiment_df = pd.DataFrame()\n",
    "    \n",
    "    liquid_counter = 0\n",
    "    airpuff_counter = 0\n",
    "    \n",
    "    for (index, trial) in enumerate(config_trial_types):\n",
    "        if trial == 1:\n",
    "            liquid_counter += 1\n",
    "            trial_name = \"Trial_\" + str(index + 1)\n",
    "            trial_type = \"Liquid_\" + str(liquid_counter)\n",
    "            series = pd.Series(trial_type, dtype=str, name=trial_name)\n",
    "            base_experiment_df = base_experiment_df.append(series)\n",
    "        else:\n",
    "            airpuff_counter += 1\n",
    "            trial_name = \"Trial_\" + str(index + 1)\n",
    "            trial_type = \"Airpuff_\" + str(airpuff_counter)\n",
    "            series = pd.Series(trial_type, dtype=str, name=trial_name)\n",
    "            base_experiment_df = base_experiment_df.append(series)\n",
    "    \n",
    "    base_experiment_df.reset_index(inplace=True)\n",
    "    base_experiment_df.columns = [\"trial\", \"trial_type\"]\n",
    "    base_experiment_df.set_index(\"trial_type\", inplace=True)\n",
    "    \n",
    "    constant_keys = [key for key in clean_stimuli_dict if len(config_trial_types) == len(clean_stimuli_dict[key])]\n",
    "    \n",
    "    for key in constant_keys:\n",
    "        base_experiment_df[key] = clean_stimuli_dict[key]\n",
    "        base_experiment_df[key] = base_experiment_df[key].divide(1000)\n",
    "    \n",
    "    \n",
    "    variable_keys = [key for key in clean_stimuli_dict if key not in constant_keys and len(clean_stimuli_dict[key]) != 0]\n",
    "    \n",
    "    if len(variable_keys) == 0:\n",
    "        pass\n",
    "    else:\n",
    "\n",
    "        for key in variable_keys:\n",
    "            tmp_df = pd.DataFrame()\n",
    "            if \"Liquid\" in key:\n",
    "                name = \"Liquid_\"\n",
    "            else:\n",
    "                name = \"Airpuff_\"\n",
    "            for (index, trial) in enumerate(clean_stimuli_dict[key]):\n",
    "                tmp_trial = name + str(index + 1)\n",
    "                tmp_timestamp = trial\n",
    "                s = pd.Series(tmp_timestamp, dtype=int, name=tmp_trial)\n",
    "                tmp_df = tmp_df.append(s)\n",
    "            tmp_df.columns = [key]\n",
    "\n",
    "            base_experiment_df[key] = np.nan\n",
    "            base_experiment_df.update(tmp_df)\n",
    "            base_experiment_df[key] = base_experiment_df[key].divide(1000)\n",
    "   \n",
    "    base_experiment_df.reset_index(inplace=True)\n",
    "    base_experiment_df.set_index(\"trial\", inplace=True)\n",
    "    \n",
    "    return base_experiment_df\n",
    "\n",
    "base_df = build_base_experiment_df(config_trial_types, clean_stimuli_dict)"
   ]
  },
  {
   "cell_type": "code",
   "execution_count": 29,
   "id": "ffe3e4c4-bde9-430d-b412-e9fe7de11aba",
   "metadata": {},
   "outputs": [
    {
     "name": "stderr",
     "output_type": "stream",
     "text": [
      "Closing remaining open files:Y:\\specialk\\learned_helplessness\\LHE011\\twop\\20210611\\20210611_LHE011_plane0_merged.h5...done\n"
     ]
    }
   ],
   "source": [
    "def write_merged_behavior_hdf(checked_behavior_file, base_df, config_trialtypes, clean_behavior_dict):\n",
    "    \"\"\"\n",
    "    Writes hdf5 file of cleaned data for a given session to disk\n",
    "    \n",
    "    Parameters\n",
    "    ----------\n",
    "    1. Path\n",
    "        Path of checked behavior\n",
    "    2. pandas.Dataframe\n",
    "        Cleaned behavior dataframe of trials and stimuli\n",
    "    3. list\n",
    "        List of trial types from configuration file\n",
    "    4. list\n",
    "        List of lick timestamps from cleaned_behavior_dict\n",
    "    \n",
    "    Returns\n",
    "    -------\n",
    "    None\n",
    "    \"\"\"\n",
    "    \n",
    "    \n",
    "    filename_pattern = re.compile(\"\\d{8}_[A-Z]{3}\\d{3}_plane\\d{1}\")\n",
    "    \n",
    "    re_filename_result = re.search(pattern=filename_pattern, string=checked_behavior_file.name)\n",
    "    \n",
    "    hdf_filename = checked_behavior_file.parents[1] / (re_filename_result.group(0) + \"_merged.h5\")\n",
    "    \n",
    "#     merged_behavior_df.set_index(\"trial\", inplace=True)\n",
    "    \n",
    "    trial_types = pd.Series(config_trialtypes)\n",
    "    \n",
    "    lick_timestamps = pd.DataFrame.from_dict(clean_behavior_dict)\n",
    "    lick_timestamps = lick_timestamps.divide(1000)\n",
    "    \n",
    "    hdf_store = pd.HDFStore(hdf_filename)\n",
    "    \n",
    "    hdf_store.append(value=base_df, key=\"stimulus_timestamps\")\n",
    "    \n",
    "    hdf_store.append(value=trial_types, key=\"trial_types\")\n",
    "    \n",
    "    hdf_store.append(value=lick_timestamps, key=\"lick_timestamps\")\n",
    "    \n",
    "    tables.file._open_files.close_all()\n",
    "    \n",
    "\n",
    "write_merged_behavior_hdf(checked_behavior_file_list[5], base_df, config_trial_types, clean_behavior_dict)"
   ]
  },
  {
   "cell_type": "code",
   "execution_count": 30,
   "id": "39096bcd-a331-440d-be44-31d05ae1187e",
   "metadata": {
    "tags": []
   },
   "outputs": [
    {
     "name": "stdout",
     "output_type": "stream",
     "text": [
      "WARNING!!! LHE011 twop 20210602 raw data not converted!\n",
      "Cleaning: 20210603_LHE011_plane0-042_Cycle00001_VoltageRecording_001.csv\n"
     ]
    },
    {
     "name": "stderr",
     "output_type": "stream",
     "text": [
      "Closing remaining open files:Y:\\specialk\\learned_helplessness\\LHE011\\twop\\20210603\\20210603_LHE011_plane0_merged.h5...done\n"
     ]
    },
    {
     "name": "stdout",
     "output_type": "stream",
     "text": [
      "Cleaning: 20210604_LHE011_plane0-048_Cycle00001_VoltageRecording_001.csv\n"
     ]
    },
    {
     "name": "stderr",
     "output_type": "stream",
     "text": [
      "Closing remaining open files:Y:\\specialk\\learned_helplessness\\LHE011\\twop\\20210604\\20210604_LHE011_plane0_merged.h5...done\n"
     ]
    },
    {
     "name": "stdout",
     "output_type": "stream",
     "text": [
      "Cleaning: 20210605_LHE011_plane0-056_Cycle00001_VoltageRecording_001.csv\n"
     ]
    },
    {
     "name": "stderr",
     "output_type": "stream",
     "text": [
      "Closing remaining open files:Y:\\specialk\\learned_helplessness\\LHE011\\twop\\20210605\\20210605_LHE011_plane0_merged.h5...done\n"
     ]
    },
    {
     "name": "stdout",
     "output_type": "stream",
     "text": [
      "Cleaning: 20210607_LHE011_plane0-070_Cycle00001_VoltageRecording_001.csv\n"
     ]
    },
    {
     "name": "stderr",
     "output_type": "stream",
     "text": [
      "Closing remaining open files:Y:\\specialk\\learned_helplessness\\LHE011\\twop\\20210607\\20210607_LHE011_plane0_merged.h5...done\n"
     ]
    },
    {
     "name": "stdout",
     "output_type": "stream",
     "text": [
      "Cleaning: 20210608_LHE011_plane0-071_Cycle00001_VoltageRecording_001.csv\n"
     ]
    },
    {
     "name": "stderr",
     "output_type": "stream",
     "text": [
      "Closing remaining open files:Y:\\specialk\\learned_helplessness\\LHE011\\twop\\20210608\\20210608_LHE011_plane0_merged.h5...done\n"
     ]
    },
    {
     "name": "stdout",
     "output_type": "stream",
     "text": [
      "Cleaning: 20210611_LHE011_plane0-081_Cycle00001_VoltageRecording_001.csv\n"
     ]
    },
    {
     "name": "stderr",
     "output_type": "stream",
     "text": [
      "Closing remaining open files:Y:\\specialk\\learned_helplessness\\LHE011\\twop\\20210611\\20210611_LHE011_plane0_merged.h5...done\n"
     ]
    },
    {
     "name": "stdout",
     "output_type": "stream",
     "text": [
      "Cleaning: 20210612_LHE011_plane0-084_Cycle00001_VoltageRecording_001.csv\n"
     ]
    },
    {
     "name": "stderr",
     "output_type": "stream",
     "text": [
      "Closing remaining open files:Y:\\specialk\\learned_helplessness\\LHE011\\twop\\20210612\\20210612_LHE011_plane0_merged.h5...done\n"
     ]
    },
    {
     "name": "stdout",
     "output_type": "stream",
     "text": [
      "WARNING!!! LHE012 twop 20210602 raw data not converted!\n",
      "Cleaning: 20210603_LHE012_plane0-043_Cycle00001_VoltageRecording_001.csv\n"
     ]
    },
    {
     "name": "stderr",
     "output_type": "stream",
     "text": [
      "Closing remaining open files:Y:\\specialk\\learned_helplessness\\LHE012\\twop\\20210603\\20210603_LHE012_plane0_merged.h5...done\n"
     ]
    },
    {
     "name": "stdout",
     "output_type": "stream",
     "text": [
      "Cleaning: 20210604_LHE012_plane0-049_Cycle00001_VoltageRecording_001.csv\n"
     ]
    },
    {
     "name": "stderr",
     "output_type": "stream",
     "text": [
      "Closing remaining open files:Y:\\specialk\\learned_helplessness\\LHE012\\twop\\20210604\\20210604_LHE012_plane0_merged.h5...done\n"
     ]
    },
    {
     "name": "stdout",
     "output_type": "stream",
     "text": [
      "Cleaning: 20210605_LHE012_plane0-057_Cycle00001_VoltageRecording_001.csv\n"
     ]
    },
    {
     "name": "stderr",
     "output_type": "stream",
     "text": [
      "Closing remaining open files:Y:\\specialk\\learned_helplessness\\LHE012\\twop\\20210605\\20210605_LHE012_plane0_merged.h5...done\n"
     ]
    },
    {
     "name": "stdout",
     "output_type": "stream",
     "text": [
      "Cleaning: 20210606_LHE012_plane0-063_Cycle00001_VoltageRecording_001.csv\n"
     ]
    },
    {
     "name": "stderr",
     "output_type": "stream",
     "text": [
      "Closing remaining open files:Y:\\specialk\\learned_helplessness\\LHE012\\twop\\20210606\\20210606_LHE012_plane0_merged.h5...done\n"
     ]
    },
    {
     "name": "stdout",
     "output_type": "stream",
     "text": [
      "Cleaning: 20210607_LHE012_plane0-069_Cycle00001_VoltageRecording_001.csv\n"
     ]
    },
    {
     "name": "stderr",
     "output_type": "stream",
     "text": [
      "Closing remaining open files:Y:\\specialk\\learned_helplessness\\LHE012\\twop\\20210607\\20210607_LHE012_plane0_merged.h5...done\n"
     ]
    },
    {
     "name": "stdout",
     "output_type": "stream",
     "text": [
      "Cleaning: 20210610_LHE012_plane0-078_Cycle00001_VoltageRecording_001.csv\n"
     ]
    },
    {
     "name": "stderr",
     "output_type": "stream",
     "text": [
      "Closing remaining open files:Y:\\specialk\\learned_helplessness\\LHE012\\twop\\20210610\\20210610_LHE012_plane0_merged.h5...done\n"
     ]
    },
    {
     "name": "stdout",
     "output_type": "stream",
     "text": [
      "Cleaning: 20210611_LHE012_plane0-082_Cycle00001_VoltageRecording_001.csv\n"
     ]
    },
    {
     "name": "stderr",
     "output_type": "stream",
     "text": [
      "Closing remaining open files:Y:\\specialk\\learned_helplessness\\LHE012\\twop\\20210611\\20210611_LHE012_plane0_merged.h5...done\n"
     ]
    },
    {
     "name": "stdout",
     "output_type": "stream",
     "text": [
      "WARNING!!! LHE013 twop 20210602 raw data not converted!\n",
      "Cleaning: 20210603_LHE013_plane0-044_Cycle00001_VoltageRecording_001.csv\n"
     ]
    },
    {
     "name": "stderr",
     "output_type": "stream",
     "text": [
      "Closing remaining open files:Y:\\specialk\\learned_helplessness\\LHE013\\twop\\20210603\\20210603_LHE013_plane0_merged.h5...done\n"
     ]
    },
    {
     "name": "stdout",
     "output_type": "stream",
     "text": [
      "Cleaning: 20210604_LHE013_plane0-051_Cycle00001_VoltageRecording_001.csv\n"
     ]
    },
    {
     "name": "stderr",
     "output_type": "stream",
     "text": [
      "Closing remaining open files:Y:\\specialk\\learned_helplessness\\LHE013\\twop\\20210604\\20210604_LHE013_plane0_merged.h5...done\n"
     ]
    },
    {
     "name": "stdout",
     "output_type": "stream",
     "text": [
      "Cleaning: 20210605_LHE013_plane0-058_Cycle00001_VoltageRecording_001.csv\n"
     ]
    },
    {
     "name": "stderr",
     "output_type": "stream",
     "text": [
      "Closing remaining open files:Y:\\specialk\\learned_helplessness\\LHE013\\twop\\20210605\\20210605_LHE013_plane0_merged.h5...done\n"
     ]
    },
    {
     "name": "stdout",
     "output_type": "stream",
     "text": [
      "Cleaning: 20210606_LHE013_plane0-064_Cycle00001_VoltageRecording_001.csv\n"
     ]
    },
    {
     "name": "stderr",
     "output_type": "stream",
     "text": [
      "Closing remaining open files:Y:\\specialk\\learned_helplessness\\LHE013\\twop\\20210606\\20210606_LHE013_plane0_merged.h5...done\n"
     ]
    },
    {
     "name": "stdout",
     "output_type": "stream",
     "text": [
      "Cleaning: 20210609_LHE013_plane0-072_Cycle00001_VoltageRecording_001.csv\n"
     ]
    },
    {
     "name": "stderr",
     "output_type": "stream",
     "text": [
      "Closing remaining open files:Y:\\specialk\\learned_helplessness\\LHE013\\twop\\20210609\\20210609_LHE013_plane0_merged.h5...done\n"
     ]
    },
    {
     "name": "stdout",
     "output_type": "stream",
     "text": [
      "Cleaning: 20210610_LHE013_plane0-076_Cycle00001_VoltageRecording_001.csv\n"
     ]
    },
    {
     "name": "stderr",
     "output_type": "stream",
     "text": [
      "Closing remaining open files:Y:\\specialk\\learned_helplessness\\LHE013\\twop\\20210610\\20210610_LHE013_plane0_merged.h5...done\n"
     ]
    },
    {
     "name": "stdout",
     "output_type": "stream",
     "text": [
      "WARNING!!! LHE014 twop 20210602 raw data not converted!\n",
      "Cleaning: 20210603_LHE014_plane0-045_Cycle00001_VoltageRecording_001.csv\n"
     ]
    },
    {
     "name": "stderr",
     "output_type": "stream",
     "text": [
      "Closing remaining open files:Y:\\specialk\\learned_helplessness\\LHE014\\twop\\20210603\\20210603_LHE014_plane0_merged.h5...done\n"
     ]
    },
    {
     "name": "stdout",
     "output_type": "stream",
     "text": [
      "Cleaning: 20210604_LHE014_plane0-052_Cycle00001_VoltageRecording_001.csv\n"
     ]
    },
    {
     "name": "stderr",
     "output_type": "stream",
     "text": [
      "Closing remaining open files:Y:\\specialk\\learned_helplessness\\LHE014\\twop\\20210604\\20210604_LHE014_plane0_merged.h5...done\n"
     ]
    },
    {
     "name": "stdout",
     "output_type": "stream",
     "text": [
      "Cleaning: 20210605_LHE014_plane0-059_Cycle00001_VoltageRecording_001.csv\n"
     ]
    },
    {
     "name": "stderr",
     "output_type": "stream",
     "text": [
      "Closing remaining open files:Y:\\specialk\\learned_helplessness\\LHE014\\twop\\20210605\\20210605_LHE014_plane0_merged.h5...done\n"
     ]
    },
    {
     "name": "stdout",
     "output_type": "stream",
     "text": [
      "Cleaning: 20210606_LHE014_plane0-065_Cycle00001_VoltageRecording_001.csv\n"
     ]
    },
    {
     "name": "stderr",
     "output_type": "stream",
     "text": [
      "Closing remaining open files:Y:\\specialk\\learned_helplessness\\LHE014\\twop\\20210606\\20210606_LHE014_plane0_merged.h5...done\n"
     ]
    },
    {
     "name": "stdout",
     "output_type": "stream",
     "text": [
      "Cleaning: 20210609_LHE014_plane0-073_Cycle00001_VoltageRecording_001.csv\n"
     ]
    },
    {
     "name": "stderr",
     "output_type": "stream",
     "text": [
      "Closing remaining open files:Y:\\specialk\\learned_helplessness\\LHE014\\twop\\20210609\\20210609_LHE014_plane0_merged.h5...done\n"
     ]
    },
    {
     "name": "stdout",
     "output_type": "stream",
     "text": [
      "Cleaning: 20210610_LHE014_plane0-077_Cycle00001_VoltageRecording_001.csv\n"
     ]
    },
    {
     "name": "stderr",
     "output_type": "stream",
     "text": [
      "Closing remaining open files:Y:\\specialk\\learned_helplessness\\LHE014\\twop\\20210610\\20210610_LHE014_plane0_merged.h5...done\n"
     ]
    },
    {
     "name": "stdout",
     "output_type": "stream",
     "text": [
      "WARNING!!! LHE015 twop 20210602 raw data not converted!\n",
      "Cleaning: 20210603_LHE015_plane0-046_Cycle00001_VoltageRecording_001.csv\n"
     ]
    },
    {
     "name": "stderr",
     "output_type": "stream",
     "text": [
      "Closing remaining open files:Y:\\specialk\\learned_helplessness\\LHE015\\twop\\20210603\\20210603_LHE015_plane0_merged.h5...done\n"
     ]
    },
    {
     "name": "stdout",
     "output_type": "stream",
     "text": [
      "Cleaning: 20210604_LHE015_plane0-053_Cycle00001_VoltageRecording_001.csv\n"
     ]
    },
    {
     "name": "stderr",
     "output_type": "stream",
     "text": [
      "Closing remaining open files:Y:\\specialk\\learned_helplessness\\LHE015\\twop\\20210604\\20210604_LHE015_plane0_merged.h5...done\n"
     ]
    },
    {
     "name": "stdout",
     "output_type": "stream",
     "text": [
      "Cleaning: 20210605_LHE015_plane0-060_Cycle00001_VoltageRecording_001.csv\n"
     ]
    },
    {
     "name": "stderr",
     "output_type": "stream",
     "text": [
      "Closing remaining open files:Y:\\specialk\\learned_helplessness\\LHE015\\twop\\20210605\\20210605_LHE015_plane0_merged.h5...done\n"
     ]
    },
    {
     "name": "stdout",
     "output_type": "stream",
     "text": [
      "Cleaning: 20210606_LHE015_plane0-066_Cycle00001_VoltageRecording_001.csv\n"
     ]
    },
    {
     "name": "stderr",
     "output_type": "stream",
     "text": [
      "Closing remaining open files:Y:\\specialk\\learned_helplessness\\LHE015\\twop\\20210606\\20210606_LHE015_plane0_merged.h5...done\n"
     ]
    },
    {
     "name": "stdout",
     "output_type": "stream",
     "text": [
      "Cleaning: 20210609_LHE015_plane0-074_Cycle00001_VoltageRecording_001.csv\n"
     ]
    },
    {
     "name": "stderr",
     "output_type": "stream",
     "text": [
      "Closing remaining open files:Y:\\specialk\\learned_helplessness\\LHE015\\twop\\20210609\\20210609_LHE015_plane0_merged.h5...done\n"
     ]
    },
    {
     "name": "stdout",
     "output_type": "stream",
     "text": [
      "Cleaning: 20210610_LHE015_plane0-079_Cycle00001_VoltageRecording_001.csv\n"
     ]
    },
    {
     "name": "stderr",
     "output_type": "stream",
     "text": [
      "Closing remaining open files:Y:\\specialk\\learned_helplessness\\LHE015\\twop\\20210610\\20210610_LHE015_plane0_merged.h5...done\n"
     ]
    },
    {
     "name": "stdout",
     "output_type": "stream",
     "text": [
      "WARNING!!! LHE016 twop 20210602 raw data not converted!\n",
      "Cleaning: 20210603_LHE016_plane0-047_Cycle00001_VoltageRecording_001.csv\n"
     ]
    },
    {
     "name": "stderr",
     "output_type": "stream",
     "text": [
      "Closing remaining open files:Y:\\specialk\\learned_helplessness\\LHE016\\twop\\20210603\\20210603_LHE016_plane0_merged.h5...done\n"
     ]
    },
    {
     "name": "stdout",
     "output_type": "stream",
     "text": [
      "Cleaning: 20210604_LHE016_plane0-055_Cycle00001_VoltageRecording_001.csv\n"
     ]
    },
    {
     "name": "stderr",
     "output_type": "stream",
     "text": [
      "Closing remaining open files:Y:\\specialk\\learned_helplessness\\LHE016\\twop\\20210604\\20210604_LHE016_plane0_merged.h5...done\n"
     ]
    },
    {
     "name": "stdout",
     "output_type": "stream",
     "text": [
      "Cleaning: 20210605_LHE016_plane0-061_Cycle00001_VoltageRecording_001.csv\n"
     ]
    },
    {
     "name": "stderr",
     "output_type": "stream",
     "text": [
      "Closing remaining open files:Y:\\specialk\\learned_helplessness\\LHE016\\twop\\20210605\\20210605_LHE016_plane0_merged.h5...done\n"
     ]
    },
    {
     "name": "stdout",
     "output_type": "stream",
     "text": [
      "Cleaning: 20210606_LHE016_plane0-067_Cycle00001_VoltageRecording_001.csv\n"
     ]
    },
    {
     "name": "stderr",
     "output_type": "stream",
     "text": [
      "Closing remaining open files:Y:\\specialk\\learned_helplessness\\LHE016\\twop\\20210606\\20210606_LHE016_plane0_merged.h5...done\n"
     ]
    },
    {
     "name": "stdout",
     "output_type": "stream",
     "text": [
      "Cleaning: 20210609_LHE016_plane0-075_Cycle00001_VoltageRecording_001.csv\n"
     ]
    },
    {
     "name": "stderr",
     "output_type": "stream",
     "text": [
      "Closing remaining open files:Y:\\specialk\\learned_helplessness\\LHE016\\twop\\20210609\\20210609_LHE016_plane0_merged.h5...done\n"
     ]
    },
    {
     "name": "stdout",
     "output_type": "stream",
     "text": [
      "Cleaning: 20210610_LHE016_plane0-080_Cycle00001_VoltageRecording_001.csv\n"
     ]
    },
    {
     "name": "stderr",
     "output_type": "stream",
     "text": [
      "Closing remaining open files:Y:\\specialk\\learned_helplessness\\LHE016\\twop\\20210610\\20210610_LHE016_plane0_merged.h5...done\n"
     ]
    }
   ],
   "source": [
    "def merge_bruker_twop_data(data_dir_list):\n",
    "    \n",
    "    for data_dir in data_dir_list:\n",
    "        checked_behavior_file_list = grep_twop_raw_behavior_data(data_dir)\n",
    "        twop_config_list = grep_twop_behavior_config(checked_behavior_file_list)\n",
    "        for file, config in zip(checked_behavior_file_list, twop_config_list):\n",
    "            clean_stimuli_dict, clean_behavior_dict = clean_2p_behavior(file)\n",
    "            config_trial_types = get_2p_trialtypes(config)\n",
    "            base_df = build_base_experiment_df(config_trial_types, clean_stimuli_dict)\n",
    "            write_merged_behavior_hdf(file, base_df, config_trial_types, clean_behavior_dict)\n",
    "        \n",
    "        \n",
    "merge_bruker_twop_data(data_dir_list)"
   ]
  },
  {
   "cell_type": "code",
   "execution_count": 160,
   "id": "e0151462-83b9-4509-ac28-38bd9521beb8",
   "metadata": {
    "tags": []
   },
   "outputs": [
    {
     "data": {
      "text/html": [
       "<div>\n",
       "<style scoped>\n",
       "    .dataframe tbody tr th:only-of-type {\n",
       "        vertical-align: middle;\n",
       "    }\n",
       "\n",
       "    .dataframe tbody tr th {\n",
       "        vertical-align: top;\n",
       "    }\n",
       "\n",
       "    .dataframe thead th {\n",
       "        text-align: right;\n",
       "    }\n",
       "</style>\n",
       "<table border=\"1\" class=\"dataframe\">\n",
       "  <thead>\n",
       "    <tr style=\"text-align: right;\">\n",
       "      <th></th>\n",
       "      <th>trial_type</th>\n",
       "      <th>Speaker_on</th>\n",
       "      <th>Speaker_off</th>\n",
       "      <th>Airpuff_on</th>\n",
       "      <th>Airpuff_off</th>\n",
       "      <th>Liquid_on</th>\n",
       "      <th>Liquid_off</th>\n",
       "    </tr>\n",
       "    <tr>\n",
       "      <th>trial</th>\n",
       "      <th></th>\n",
       "      <th></th>\n",
       "      <th></th>\n",
       "      <th></th>\n",
       "      <th></th>\n",
       "      <th></th>\n",
       "      <th></th>\n",
       "    </tr>\n",
       "  </thead>\n",
       "  <tbody>\n",
       "    <tr>\n",
       "      <th>Trial_1</th>\n",
       "      <td>Liquid_1</td>\n",
       "      <td>17.391</td>\n",
       "      <td>20.428</td>\n",
       "      <td>NaN</td>\n",
       "      <td>NaN</td>\n",
       "      <td>20.429</td>\n",
       "      <td>20.629</td>\n",
       "    </tr>\n",
       "    <tr>\n",
       "      <th>Trial_2</th>\n",
       "      <td>Liquid_2</td>\n",
       "      <td>45.579</td>\n",
       "      <td>47.568</td>\n",
       "      <td>NaN</td>\n",
       "      <td>NaN</td>\n",
       "      <td>47.568</td>\n",
       "      <td>47.768</td>\n",
       "    </tr>\n",
       "    <tr>\n",
       "      <th>Trial_3</th>\n",
       "      <td>Liquid_3</td>\n",
       "      <td>67.309</td>\n",
       "      <td>69.681</td>\n",
       "      <td>NaN</td>\n",
       "      <td>NaN</td>\n",
       "      <td>69.681</td>\n",
       "      <td>69.880</td>\n",
       "    </tr>\n",
       "    <tr>\n",
       "      <th>Trial_4</th>\n",
       "      <td>Liquid_4</td>\n",
       "      <td>89.234</td>\n",
       "      <td>90.744</td>\n",
       "      <td>NaN</td>\n",
       "      <td>NaN</td>\n",
       "      <td>90.744</td>\n",
       "      <td>90.944</td>\n",
       "    </tr>\n",
       "    <tr>\n",
       "      <th>Trial_5</th>\n",
       "      <td>Airpuff_1</td>\n",
       "      <td>118.582</td>\n",
       "      <td>120.241</td>\n",
       "      <td>120.242</td>\n",
       "      <td>120.341</td>\n",
       "      <td>NaN</td>\n",
       "      <td>NaN</td>\n",
       "    </tr>\n",
       "    <tr>\n",
       "      <th>Trial_6</th>\n",
       "      <td>Liquid_5</td>\n",
       "      <td>140.020</td>\n",
       "      <td>145.016</td>\n",
       "      <td>NaN</td>\n",
       "      <td>NaN</td>\n",
       "      <td>145.017</td>\n",
       "      <td>145.216</td>\n",
       "    </tr>\n",
       "    <tr>\n",
       "      <th>Trial_7</th>\n",
       "      <td>Liquid_6</td>\n",
       "      <td>176.417</td>\n",
       "      <td>179.166</td>\n",
       "      <td>NaN</td>\n",
       "      <td>NaN</td>\n",
       "      <td>179.166</td>\n",
       "      <td>179.366</td>\n",
       "    </tr>\n",
       "    <tr>\n",
       "      <th>Trial_8</th>\n",
       "      <td>Airpuff_2</td>\n",
       "      <td>211.919</td>\n",
       "      <td>216.455</td>\n",
       "      <td>216.456</td>\n",
       "      <td>216.555</td>\n",
       "      <td>NaN</td>\n",
       "      <td>NaN</td>\n",
       "    </tr>\n",
       "    <tr>\n",
       "      <th>Trial_9</th>\n",
       "      <td>Airpuff_3</td>\n",
       "      <td>242.545</td>\n",
       "      <td>245.172</td>\n",
       "      <td>245.172</td>\n",
       "      <td>245.272</td>\n",
       "      <td>NaN</td>\n",
       "      <td>NaN</td>\n",
       "    </tr>\n",
       "    <tr>\n",
       "      <th>Trial_10</th>\n",
       "      <td>Airpuff_4</td>\n",
       "      <td>272.473</td>\n",
       "      <td>274.689</td>\n",
       "      <td>274.689</td>\n",
       "      <td>274.790</td>\n",
       "      <td>NaN</td>\n",
       "      <td>NaN</td>\n",
       "    </tr>\n",
       "    <tr>\n",
       "      <th>Trial_11</th>\n",
       "      <td>Liquid_7</td>\n",
       "      <td>300.524</td>\n",
       "      <td>302.352</td>\n",
       "      <td>NaN</td>\n",
       "      <td>NaN</td>\n",
       "      <td>302.352</td>\n",
       "      <td>302.553</td>\n",
       "    </tr>\n",
       "    <tr>\n",
       "      <th>Trial_12</th>\n",
       "      <td>Liquid_8</td>\n",
       "      <td>332.737</td>\n",
       "      <td>334.413</td>\n",
       "      <td>NaN</td>\n",
       "      <td>NaN</td>\n",
       "      <td>334.413</td>\n",
       "      <td>334.614</td>\n",
       "    </tr>\n",
       "    <tr>\n",
       "      <th>Trial_13</th>\n",
       "      <td>Liquid_9</td>\n",
       "      <td>366.642</td>\n",
       "      <td>369.239</td>\n",
       "      <td>NaN</td>\n",
       "      <td>NaN</td>\n",
       "      <td>369.239</td>\n",
       "      <td>369.440</td>\n",
       "    </tr>\n",
       "    <tr>\n",
       "      <th>Trial_14</th>\n",
       "      <td>Liquid_10</td>\n",
       "      <td>397.856</td>\n",
       "      <td>401.046</td>\n",
       "      <td>NaN</td>\n",
       "      <td>NaN</td>\n",
       "      <td>401.046</td>\n",
       "      <td>401.247</td>\n",
       "    </tr>\n",
       "    <tr>\n",
       "      <th>Trial_15</th>\n",
       "      <td>Airpuff_5</td>\n",
       "      <td>427.251</td>\n",
       "      <td>428.625</td>\n",
       "      <td>428.626</td>\n",
       "      <td>428.726</td>\n",
       "      <td>NaN</td>\n",
       "      <td>NaN</td>\n",
       "    </tr>\n",
       "    <tr>\n",
       "      <th>Trial_16</th>\n",
       "      <td>Liquid_11</td>\n",
       "      <td>452.463</td>\n",
       "      <td>456.066</td>\n",
       "      <td>NaN</td>\n",
       "      <td>NaN</td>\n",
       "      <td>456.066</td>\n",
       "      <td>456.267</td>\n",
       "    </tr>\n",
       "    <tr>\n",
       "      <th>Trial_17</th>\n",
       "      <td>Liquid_12</td>\n",
       "      <td>475.779</td>\n",
       "      <td>477.592</td>\n",
       "      <td>NaN</td>\n",
       "      <td>NaN</td>\n",
       "      <td>477.592</td>\n",
       "      <td>477.792</td>\n",
       "    </tr>\n",
       "    <tr>\n",
       "      <th>Trial_18</th>\n",
       "      <td>Liquid_13</td>\n",
       "      <td>500.187</td>\n",
       "      <td>502.674</td>\n",
       "      <td>NaN</td>\n",
       "      <td>NaN</td>\n",
       "      <td>502.675</td>\n",
       "      <td>502.875</td>\n",
       "    </tr>\n",
       "    <tr>\n",
       "      <th>Trial_19</th>\n",
       "      <td>Liquid_14</td>\n",
       "      <td>530.155</td>\n",
       "      <td>533.975</td>\n",
       "      <td>NaN</td>\n",
       "      <td>NaN</td>\n",
       "      <td>533.976</td>\n",
       "      <td>534.176</td>\n",
       "    </tr>\n",
       "    <tr>\n",
       "      <th>Trial_20</th>\n",
       "      <td>Liquid_15</td>\n",
       "      <td>557.345</td>\n",
       "      <td>561.814</td>\n",
       "      <td>NaN</td>\n",
       "      <td>NaN</td>\n",
       "      <td>561.814</td>\n",
       "      <td>562.014</td>\n",
       "    </tr>\n",
       "    <tr>\n",
       "      <th>Trial_21</th>\n",
       "      <td>Liquid_16</td>\n",
       "      <td>589.984</td>\n",
       "      <td>593.198</td>\n",
       "      <td>NaN</td>\n",
       "      <td>NaN</td>\n",
       "      <td>593.199</td>\n",
       "      <td>593.399</td>\n",
       "    </tr>\n",
       "    <tr>\n",
       "      <th>Trial_22</th>\n",
       "      <td>Liquid_17</td>\n",
       "      <td>619.492</td>\n",
       "      <td>623.558</td>\n",
       "      <td>NaN</td>\n",
       "      <td>NaN</td>\n",
       "      <td>623.558</td>\n",
       "      <td>623.758</td>\n",
       "    </tr>\n",
       "    <tr>\n",
       "      <th>Trial_23</th>\n",
       "      <td>Airpuff_6</td>\n",
       "      <td>654.306</td>\n",
       "      <td>657.853</td>\n",
       "      <td>657.854</td>\n",
       "      <td>657.954</td>\n",
       "      <td>NaN</td>\n",
       "      <td>NaN</td>\n",
       "    </tr>\n",
       "    <tr>\n",
       "      <th>Trial_24</th>\n",
       "      <td>Liquid_18</td>\n",
       "      <td>680.941</td>\n",
       "      <td>683.454</td>\n",
       "      <td>NaN</td>\n",
       "      <td>NaN</td>\n",
       "      <td>683.454</td>\n",
       "      <td>683.655</td>\n",
       "    </tr>\n",
       "    <tr>\n",
       "      <th>Trial_25</th>\n",
       "      <td>Liquid_19</td>\n",
       "      <td>704.235</td>\n",
       "      <td>706.892</td>\n",
       "      <td>NaN</td>\n",
       "      <td>NaN</td>\n",
       "      <td>706.892</td>\n",
       "      <td>707.093</td>\n",
       "    </tr>\n",
       "    <tr>\n",
       "      <th>Trial_26</th>\n",
       "      <td>Liquid_20</td>\n",
       "      <td>734.236</td>\n",
       "      <td>735.805</td>\n",
       "      <td>NaN</td>\n",
       "      <td>NaN</td>\n",
       "      <td>735.805</td>\n",
       "      <td>736.005</td>\n",
       "    </tr>\n",
       "    <tr>\n",
       "      <th>Trial_27</th>\n",
       "      <td>Liquid_21</td>\n",
       "      <td>765.282</td>\n",
       "      <td>769.571</td>\n",
       "      <td>NaN</td>\n",
       "      <td>NaN</td>\n",
       "      <td>769.572</td>\n",
       "      <td>769.772</td>\n",
       "    </tr>\n",
       "    <tr>\n",
       "      <th>Trial_28</th>\n",
       "      <td>Airpuff_7</td>\n",
       "      <td>798.193</td>\n",
       "      <td>800.483</td>\n",
       "      <td>800.484</td>\n",
       "      <td>800.584</td>\n",
       "      <td>NaN</td>\n",
       "      <td>NaN</td>\n",
       "    </tr>\n",
       "    <tr>\n",
       "      <th>Trial_29</th>\n",
       "      <td>Liquid_22</td>\n",
       "      <td>816.775</td>\n",
       "      <td>821.121</td>\n",
       "      <td>NaN</td>\n",
       "      <td>NaN</td>\n",
       "      <td>821.121</td>\n",
       "      <td>821.321</td>\n",
       "    </tr>\n",
       "    <tr>\n",
       "      <th>Trial_30</th>\n",
       "      <td>Airpuff_8</td>\n",
       "      <td>845.217</td>\n",
       "      <td>849.241</td>\n",
       "      <td>849.242</td>\n",
       "      <td>849.341</td>\n",
       "      <td>NaN</td>\n",
       "      <td>NaN</td>\n",
       "    </tr>\n",
       "    <tr>\n",
       "      <th>Trial_31</th>\n",
       "      <td>Liquid_23</td>\n",
       "      <td>870.276</td>\n",
       "      <td>874.636</td>\n",
       "      <td>NaN</td>\n",
       "      <td>NaN</td>\n",
       "      <td>874.636</td>\n",
       "      <td>874.836</td>\n",
       "    </tr>\n",
       "    <tr>\n",
       "      <th>Trial_32</th>\n",
       "      <td>Liquid_24</td>\n",
       "      <td>903.924</td>\n",
       "      <td>907.698</td>\n",
       "      <td>NaN</td>\n",
       "      <td>NaN</td>\n",
       "      <td>907.698</td>\n",
       "      <td>907.898</td>\n",
       "    </tr>\n",
       "    <tr>\n",
       "      <th>Trial_33</th>\n",
       "      <td>Liquid_25</td>\n",
       "      <td>929.162</td>\n",
       "      <td>932.374</td>\n",
       "      <td>NaN</td>\n",
       "      <td>NaN</td>\n",
       "      <td>932.374</td>\n",
       "      <td>932.574</td>\n",
       "    </tr>\n",
       "    <tr>\n",
       "      <th>Trial_34</th>\n",
       "      <td>Liquid_26</td>\n",
       "      <td>958.570</td>\n",
       "      <td>963.416</td>\n",
       "      <td>NaN</td>\n",
       "      <td>NaN</td>\n",
       "      <td>963.417</td>\n",
       "      <td>963.616</td>\n",
       "    </tr>\n",
       "    <tr>\n",
       "      <th>Trial_35</th>\n",
       "      <td>Airpuff_9</td>\n",
       "      <td>983.412</td>\n",
       "      <td>985.643</td>\n",
       "      <td>985.643</td>\n",
       "      <td>985.743</td>\n",
       "      <td>NaN</td>\n",
       "      <td>NaN</td>\n",
       "    </tr>\n",
       "    <tr>\n",
       "      <th>Trial_36</th>\n",
       "      <td>Liquid_27</td>\n",
       "      <td>1009.879</td>\n",
       "      <td>1013.607</td>\n",
       "      <td>NaN</td>\n",
       "      <td>NaN</td>\n",
       "      <td>1013.607</td>\n",
       "      <td>1013.806</td>\n",
       "    </tr>\n",
       "    <tr>\n",
       "      <th>Trial_37</th>\n",
       "      <td>Liquid_28</td>\n",
       "      <td>1044.646</td>\n",
       "      <td>1049.369</td>\n",
       "      <td>NaN</td>\n",
       "      <td>NaN</td>\n",
       "      <td>1049.370</td>\n",
       "      <td>1049.570</td>\n",
       "    </tr>\n",
       "    <tr>\n",
       "      <th>Trial_38</th>\n",
       "      <td>Liquid_29</td>\n",
       "      <td>1079.900</td>\n",
       "      <td>1082.844</td>\n",
       "      <td>NaN</td>\n",
       "      <td>NaN</td>\n",
       "      <td>1082.844</td>\n",
       "      <td>1083.044</td>\n",
       "    </tr>\n",
       "    <tr>\n",
       "      <th>Trial_39</th>\n",
       "      <td>Airpuff_10</td>\n",
       "      <td>1103.288</td>\n",
       "      <td>1108.140</td>\n",
       "      <td>1108.141</td>\n",
       "      <td>1108.241</td>\n",
       "      <td>NaN</td>\n",
       "      <td>NaN</td>\n",
       "    </tr>\n",
       "    <tr>\n",
       "      <th>Trial_40</th>\n",
       "      <td>Liquid_30</td>\n",
       "      <td>1127.202</td>\n",
       "      <td>1129.004</td>\n",
       "      <td>NaN</td>\n",
       "      <td>NaN</td>\n",
       "      <td>1129.004</td>\n",
       "      <td>1129.204</td>\n",
       "    </tr>\n",
       "  </tbody>\n",
       "</table>\n",
       "</div>"
      ],
      "text/plain": [
       "          trial_type  Speaker_on  Speaker_off  Airpuff_on  Airpuff_off  \\\n",
       "trial                                                                    \n",
       "Trial_1     Liquid_1      17.391       20.428         NaN          NaN   \n",
       "Trial_2     Liquid_2      45.579       47.568         NaN          NaN   \n",
       "Trial_3     Liquid_3      67.309       69.681         NaN          NaN   \n",
       "Trial_4     Liquid_4      89.234       90.744         NaN          NaN   \n",
       "Trial_5    Airpuff_1     118.582      120.241     120.242      120.341   \n",
       "Trial_6     Liquid_5     140.020      145.016         NaN          NaN   \n",
       "Trial_7     Liquid_6     176.417      179.166         NaN          NaN   \n",
       "Trial_8    Airpuff_2     211.919      216.455     216.456      216.555   \n",
       "Trial_9    Airpuff_3     242.545      245.172     245.172      245.272   \n",
       "Trial_10   Airpuff_4     272.473      274.689     274.689      274.790   \n",
       "Trial_11    Liquid_7     300.524      302.352         NaN          NaN   \n",
       "Trial_12    Liquid_8     332.737      334.413         NaN          NaN   \n",
       "Trial_13    Liquid_9     366.642      369.239         NaN          NaN   \n",
       "Trial_14   Liquid_10     397.856      401.046         NaN          NaN   \n",
       "Trial_15   Airpuff_5     427.251      428.625     428.626      428.726   \n",
       "Trial_16   Liquid_11     452.463      456.066         NaN          NaN   \n",
       "Trial_17   Liquid_12     475.779      477.592         NaN          NaN   \n",
       "Trial_18   Liquid_13     500.187      502.674         NaN          NaN   \n",
       "Trial_19   Liquid_14     530.155      533.975         NaN          NaN   \n",
       "Trial_20   Liquid_15     557.345      561.814         NaN          NaN   \n",
       "Trial_21   Liquid_16     589.984      593.198         NaN          NaN   \n",
       "Trial_22   Liquid_17     619.492      623.558         NaN          NaN   \n",
       "Trial_23   Airpuff_6     654.306      657.853     657.854      657.954   \n",
       "Trial_24   Liquid_18     680.941      683.454         NaN          NaN   \n",
       "Trial_25   Liquid_19     704.235      706.892         NaN          NaN   \n",
       "Trial_26   Liquid_20     734.236      735.805         NaN          NaN   \n",
       "Trial_27   Liquid_21     765.282      769.571         NaN          NaN   \n",
       "Trial_28   Airpuff_7     798.193      800.483     800.484      800.584   \n",
       "Trial_29   Liquid_22     816.775      821.121         NaN          NaN   \n",
       "Trial_30   Airpuff_8     845.217      849.241     849.242      849.341   \n",
       "Trial_31   Liquid_23     870.276      874.636         NaN          NaN   \n",
       "Trial_32   Liquid_24     903.924      907.698         NaN          NaN   \n",
       "Trial_33   Liquid_25     929.162      932.374         NaN          NaN   \n",
       "Trial_34   Liquid_26     958.570      963.416         NaN          NaN   \n",
       "Trial_35   Airpuff_9     983.412      985.643     985.643      985.743   \n",
       "Trial_36   Liquid_27    1009.879     1013.607         NaN          NaN   \n",
       "Trial_37   Liquid_28    1044.646     1049.369         NaN          NaN   \n",
       "Trial_38   Liquid_29    1079.900     1082.844         NaN          NaN   \n",
       "Trial_39  Airpuff_10    1103.288     1108.140    1108.141     1108.241   \n",
       "Trial_40   Liquid_30    1127.202     1129.004         NaN          NaN   \n",
       "\n",
       "          Liquid_on  Liquid_off  \n",
       "trial                            \n",
       "Trial_1      20.429      20.629  \n",
       "Trial_2      47.568      47.768  \n",
       "Trial_3      69.681      69.880  \n",
       "Trial_4      90.744      90.944  \n",
       "Trial_5         NaN         NaN  \n",
       "Trial_6     145.017     145.216  \n",
       "Trial_7     179.166     179.366  \n",
       "Trial_8         NaN         NaN  \n",
       "Trial_9         NaN         NaN  \n",
       "Trial_10        NaN         NaN  \n",
       "Trial_11    302.352     302.553  \n",
       "Trial_12    334.413     334.614  \n",
       "Trial_13    369.239     369.440  \n",
       "Trial_14    401.046     401.247  \n",
       "Trial_15        NaN         NaN  \n",
       "Trial_16    456.066     456.267  \n",
       "Trial_17    477.592     477.792  \n",
       "Trial_18    502.675     502.875  \n",
       "Trial_19    533.976     534.176  \n",
       "Trial_20    561.814     562.014  \n",
       "Trial_21    593.199     593.399  \n",
       "Trial_22    623.558     623.758  \n",
       "Trial_23        NaN         NaN  \n",
       "Trial_24    683.454     683.655  \n",
       "Trial_25    706.892     707.093  \n",
       "Trial_26    735.805     736.005  \n",
       "Trial_27    769.572     769.772  \n",
       "Trial_28        NaN         NaN  \n",
       "Trial_29    821.121     821.321  \n",
       "Trial_30        NaN         NaN  \n",
       "Trial_31    874.636     874.836  \n",
       "Trial_32    907.698     907.898  \n",
       "Trial_33    932.374     932.574  \n",
       "Trial_34    963.417     963.616  \n",
       "Trial_35        NaN         NaN  \n",
       "Trial_36   1013.607    1013.806  \n",
       "Trial_37   1049.370    1049.570  \n",
       "Trial_38   1082.844    1083.044  \n",
       "Trial_39        NaN         NaN  \n",
       "Trial_40   1129.004    1129.204  "
      ]
     },
     "execution_count": 160,
     "metadata": {},
     "output_type": "execute_result"
    }
   ],
   "source": [
    "pd.read_hdf(\"Y:/specialk/learned_helplessness/LHE011/twop/20210608/20210608_LHE011_plane0_merged.h5\", key=\"stimulus_timestamps\")\n",
    "\n",
    "# tables.file._open_files.close_all()"
   ]
  },
  {
   "cell_type": "code",
   "execution_count": 110,
   "id": "97004ec2-30cf-41a2-a3c4-fca46a58b4cb",
   "metadata": {},
   "outputs": [],
   "source": [
    "def align_behavior(merged_file, prewindow, postwindow):\n",
    "\n",
    "    session_df = pd.read_hdf(merged_file, key=\"stimulus_timestamps\", index_col=\"trial\")\n",
    "    \n",
    "    \n",
    "    airpuff_trials = [int(item[0].split(\"_\")[1]) - 1 for item in session_df.trial_type.items() if \"Airpuff\" in item[1]]\n",
    "    sucrose_trials = [int(item[0].split(\"_\")[1]) - 1 for item in session_df.trial_type.items() if \"Liquid\" in item[1]]\n",
    "    \n",
    "    lick_dataframe = pd.read_hdf(merged_file, key=\"lick_timestamps\")\n",
    "    \n",
    "    session_df[\"centered_licks\"] = np.empty((len(session_df), 0)).tolist()\n",
    "    session_df[\"aligned_licks\"] = np.empty((len(session_df), 0)).tolist()\n",
    "    \n",
    "    for lick in lick_dataframe[\"Lick_on\"]:\n",
    "        for value in session_df[\"Liquid_on\"].items():\n",
    "            if (value[1] - prewindow) <= lick <= (value[1] + postwindow):\n",
    "                tmp = value[0]\n",
    "                session_df[\"centered_licks\"].loc[tmp].append(lick)\n",
    "            else:\n",
    "                pass\n",
    "    \n",
    "    for lick in session_df[\"centered_licks\"].items():\n",
    "        if len(lick[1]) == 0:\n",
    "            pass\n",
    "        else:\n",
    "            tmp = lick[0]\n",
    "            for value in session_df[\"centered_licks\"].loc[tmp]:\n",
    "                session_df[\"aligned_licks\"].loc[tmp].append((value - session_df[\"Liquid_on\"].loc[tmp]).round(3))\n",
    "\n",
    "    session_liquid_aligned_lists = [lick for lick in session_df[\"aligned_licks\"]]\n",
    "    \n",
    "    return session_liquid_aligned_lists, airpuff_trials, sucrose_trials"
   ]
  },
  {
   "cell_type": "code",
   "execution_count": 133,
   "id": "0e5e9690-3517-4b65-9483-f73e3a34ff0e",
   "metadata": {
    "tags": []
   },
   "outputs": [
    {
     "data": {
      "image/png": "[encoded data removed]",
      "text/plain": [
       "<Figure size 1440x720 with 1 Axes>"
      ]
     },
     "metadata": {
      "needs_background": "light"
     },
     "output_type": "display_data"
    }
   ],
   "source": [
    "def gen_session_lick_raster(merged_file, prewindow=5, postwindow=10):\n",
    "    \n",
    "    session_name = Path(merged_file).stem\n",
    "    \n",
    "    session_liquid_aligned_lists, airpuff_trials, sucrose_trials = align_behavior(merged_file, prewindow, postwindow)\n",
    "\n",
    "\n",
    "    fig = plt.figure(figsize=(20,10))\n",
    "    ax = fig.add_subplot()\n",
    "    plt.xlim(-prewindow, postwindow)\n",
    "    plt.title(Path(merged_file).stem + \" Trial Lick Raster\")\n",
    "    plt.xlabel(\"Time (s)\")\n",
    "    plt.ylabel(\"Trial Number\")\n",
    "    plt.axvline(x=0, ymin=0, ymax=len(session_liquid_aligned_lists), color=\"green\", label=\"test\")\n",
    "    plt.hlines(y=airpuff_trials, xmin=-prewindow, xmax=postwindow, alpha=0.3, linewidth=9, color=\"red\")\n",
    "    plt.hlines(y=sucrose_trials, xmin=-prewindow, xmax=postwindow, alpha=0.3, linewidth=9, color=\"green\")\n",
    "    ax.eventplot(positions=session_liquid_aligned_lists, linewidth=2.5)\n",
    "\n",
    "gen_session_lick_raster(\"Y:/specialk/learned_helplessness/LHE011/twop/20210608/20210608_LHE011_plane0_merged.h5\")"
   ]
  },
  {
   "cell_type": "code",
   "execution_count": 158,
   "id": "d9f9746c-0d3a-4368-b713-1da9e744e7f6",
   "metadata": {},
   "outputs": [
    {
     "ename": "TypeError",
     "evalue": "only integer scalar arrays can be converted to a scalar index",
     "output_type": "error",
     "traceback": [
      "\u001b[1;31m---------------------------------------------------------------------------\u001b[0m",
      "\u001b[1;31mTypeError\u001b[0m                                 Traceback (most recent call last)",
      "\u001b[1;32m<ipython-input-158-4d3b94a0fc2f>\u001b[0m in \u001b[0;36m<module>\u001b[1;34m\u001b[0m\n\u001b[0;32m     19\u001b[0m     \u001b[0mmeans\u001b[0m \u001b[1;33m=\u001b[0m \u001b[1;33m[\u001b[0m\u001b[0mtest\u001b[0m\u001b[1;33m[\u001b[0m\u001b[0mdigitized\u001b[0m \u001b[1;33m==\u001b[0m \u001b[0mi\u001b[0m\u001b[1;33m]\u001b[0m\u001b[1;33m.\u001b[0m\u001b[0mmean\u001b[0m\u001b[1;33m(\u001b[0m\u001b[1;33m)\u001b[0m \u001b[1;32mfor\u001b[0m \u001b[0mi\u001b[0m \u001b[1;32min\u001b[0m \u001b[0mrange\u001b[0m\u001b[1;33m(\u001b[0m\u001b[1;36m1\u001b[0m\u001b[1;33m,\u001b[0m \u001b[0mlen\u001b[0m\u001b[1;33m(\u001b[0m\u001b[0mbins\u001b[0m\u001b[1;33m)\u001b[0m\u001b[1;33m)\u001b[0m\u001b[1;33m]\u001b[0m\u001b[1;33m\u001b[0m\u001b[1;33m\u001b[0m\u001b[0m\n\u001b[0;32m     20\u001b[0m \u001b[1;33m\u001b[0m\u001b[0m\n\u001b[1;32m---> 21\u001b[1;33m \u001b[0mgen_session_lick_psth\u001b[0m\u001b[1;33m(\u001b[0m\u001b[1;34m\"Y:/specialk/learned_helplessness/LHE011/twop/20210608/20210608_LHE011_plane0_merged.h5\"\u001b[0m\u001b[1;33m)\u001b[0m\u001b[1;33m\u001b[0m\u001b[1;33m\u001b[0m\u001b[0m\n\u001b[0m\u001b[0;32m     22\u001b[0m \u001b[1;33m\u001b[0m\u001b[0m\n\u001b[0;32m     23\u001b[0m \u001b[1;33m\u001b[0m\u001b[0m\n",
      "\u001b[1;32m<ipython-input-158-4d3b94a0fc2f>\u001b[0m in \u001b[0;36mgen_session_lick_psth\u001b[1;34m(merged_file, prewindow, postwindow)\u001b[0m\n\u001b[0;32m     17\u001b[0m     \u001b[0mtest\u001b[0m \u001b[1;33m=\u001b[0m \u001b[1;33m[\u001b[0m\u001b[1;33m]\u001b[0m\u001b[1;33m\u001b[0m\u001b[1;33m\u001b[0m\u001b[0m\n\u001b[0;32m     18\u001b[0m \u001b[1;33m\u001b[0m\u001b[0m\n\u001b[1;32m---> 19\u001b[1;33m     \u001b[0mmeans\u001b[0m \u001b[1;33m=\u001b[0m \u001b[1;33m[\u001b[0m\u001b[0mtest\u001b[0m\u001b[1;33m[\u001b[0m\u001b[0mdigitized\u001b[0m \u001b[1;33m==\u001b[0m \u001b[0mi\u001b[0m\u001b[1;33m]\u001b[0m\u001b[1;33m.\u001b[0m\u001b[0mmean\u001b[0m\u001b[1;33m(\u001b[0m\u001b[1;33m)\u001b[0m \u001b[1;32mfor\u001b[0m \u001b[0mi\u001b[0m \u001b[1;32min\u001b[0m \u001b[0mrange\u001b[0m\u001b[1;33m(\u001b[0m\u001b[1;36m1\u001b[0m\u001b[1;33m,\u001b[0m \u001b[0mlen\u001b[0m\u001b[1;33m(\u001b[0m\u001b[0mbins\u001b[0m\u001b[1;33m)\u001b[0m\u001b[1;33m)\u001b[0m\u001b[1;33m]\u001b[0m\u001b[1;33m\u001b[0m\u001b[1;33m\u001b[0m\u001b[0m\n\u001b[0m\u001b[0;32m     20\u001b[0m \u001b[1;33m\u001b[0m\u001b[0m\n\u001b[0;32m     21\u001b[0m \u001b[0mgen_session_lick_psth\u001b[0m\u001b[1;33m(\u001b[0m\u001b[1;34m\"Y:/specialk/learned_helplessness/LHE011/twop/20210608/20210608_LHE011_plane0_merged.h5\"\u001b[0m\u001b[1;33m)\u001b[0m\u001b[1;33m\u001b[0m\u001b[1;33m\u001b[0m\u001b[0m\n",
      "\u001b[1;32m<ipython-input-158-4d3b94a0fc2f>\u001b[0m in \u001b[0;36m<listcomp>\u001b[1;34m(.0)\u001b[0m\n\u001b[0;32m     17\u001b[0m     \u001b[0mtest\u001b[0m \u001b[1;33m=\u001b[0m \u001b[1;33m[\u001b[0m\u001b[1;33m]\u001b[0m\u001b[1;33m\u001b[0m\u001b[1;33m\u001b[0m\u001b[0m\n\u001b[0;32m     18\u001b[0m \u001b[1;33m\u001b[0m\u001b[0m\n\u001b[1;32m---> 19\u001b[1;33m     \u001b[0mmeans\u001b[0m \u001b[1;33m=\u001b[0m \u001b[1;33m[\u001b[0m\u001b[0mtest\u001b[0m\u001b[1;33m[\u001b[0m\u001b[0mdigitized\u001b[0m \u001b[1;33m==\u001b[0m \u001b[0mi\u001b[0m\u001b[1;33m]\u001b[0m\u001b[1;33m.\u001b[0m\u001b[0mmean\u001b[0m\u001b[1;33m(\u001b[0m\u001b[1;33m)\u001b[0m \u001b[1;32mfor\u001b[0m \u001b[0mi\u001b[0m \u001b[1;32min\u001b[0m \u001b[0mrange\u001b[0m\u001b[1;33m(\u001b[0m\u001b[1;36m1\u001b[0m\u001b[1;33m,\u001b[0m \u001b[0mlen\u001b[0m\u001b[1;33m(\u001b[0m\u001b[0mbins\u001b[0m\u001b[1;33m)\u001b[0m\u001b[1;33m)\u001b[0m\u001b[1;33m]\u001b[0m\u001b[1;33m\u001b[0m\u001b[1;33m\u001b[0m\u001b[0m\n\u001b[0m\u001b[0;32m     20\u001b[0m \u001b[1;33m\u001b[0m\u001b[0m\n\u001b[0;32m     21\u001b[0m \u001b[0mgen_session_lick_psth\u001b[0m\u001b[1;33m(\u001b[0m\u001b[1;34m\"Y:/specialk/learned_helplessness/LHE011/twop/20210608/20210608_LHE011_plane0_merged.h5\"\u001b[0m\u001b[1;33m)\u001b[0m\u001b[1;33m\u001b[0m\u001b[1;33m\u001b[0m\u001b[0m\n",
      "\u001b[1;31mTypeError\u001b[0m: only integer scalar arrays can be converted to a scalar index"
     ]
    }
   ],
   "source": [
    "def gen_session_lick_psth(merged_file, prewindow=5, postwindow=10):\n",
    "    \n",
    "    session_name = Path(merged_file).stem\n",
    "    \n",
    "    session_liquid_aligned_lists, airpuff_trials, sucrose_trials = align_behavior(merged_file, prewindow, postwindow)\n",
    "    \n",
    "    psth_licks = []\n",
    "\n",
    "    for entry in session_liquid_aligned_lists:\n",
    "        for lick in entry:\n",
    "            psth_licks.append(lick)\n",
    "    \n",
    "    bins = np.arange(-prewindow, postwindow + 0.5, 0.5)\n",
    "    \n",
    "    digitized = np.digitize(psth_licks, bins, right=True)\n",
    "    \n",
    "    test = []\n",
    "    \n",
    "    means = [test[digitized == i].mean() for i in range(1, len(bins))]\n",
    "        \n",
    "gen_session_lick_psth(\"Y:/specialk/learned_helplessness/LHE011/twop/20210608/20210608_LHE011_plane0_merged.h5\")\n",
    "    \n",
    "    \n",
    "    "
   ]
  },
  {
   "cell_type": "markdown",
   "id": "a492228b-0b4c-4292-83a9-98b1b43b5845",
   "metadata": {},
   "source": [
    "# BELOW THIS POINT IS DEPRECATED/ONLY FOR PICKING APART SCRAPS "
   ]
  },
  {
   "cell_type": "code",
   "execution_count": 118,
   "id": "941d2ced-b83b-4260-b590-ae006f924acb",
   "metadata": {
    "tags": []
   },
   "outputs": [
    {
     "name": "stdout",
     "output_type": "stream",
     "text": [
      "0 AIRPUFF LENGTH HERE --------------\n",
      "Empty DataFrame\n",
      "Columns: [Liquid_on, Liquid_off, Speaker_on, Speaker_off]\n",
      "Index: []\n"
     ]
    }
   ],
   "source": [
    "def build_clean_stimulus_df(clean_behavior_dict):\n",
    "    \"\"\"\n",
    "    Creates cleaned stimulus dataframe of timestamps from cleaned behavior dictionary\n",
    "    \n",
    "    Parameters\n",
    "    ----------\n",
    "    1. dict\n",
    "        Cleaned behavior dictionary from clean_2p_behavior()\n",
    "    \n",
    "    Returns\n",
    "    -------\n",
    "    1. Pandas DataFrame\n",
    "        Dataframe of cleaned behavior timestamps per trial\n",
    "    \"\"\"\n",
    "    \n",
    "    print(len(clean_behavior_dict[\"Airpuff_on\"]), \"AIRPUFF LENGTH HERE --------------\")\n",
    "    \n",
    "    \n",
    "    if len(clean_behavior_dict[\"Airpuff_on\"]) == 0:\n",
    "        clean_stimulus_df_keys = [key for key in clean_behavior_dict if \"Lick\" not in key and \"Airpuff\" not in key]\n",
    "        \n",
    "    else:\n",
    "        clean_stimulus_df_keys = [key for key in clean_behavior_dict if \"Lick\" not in key]\n",
    "\n",
    "    clean_stimulus_df = pd.DataFrame(columns=clean_stimulus_df_keys)\n",
    "    \n",
    "#     for key in clean_stimulus_df_keys:\n",
    "#         clean_stimulus_df[key] = pd.Series(clean_behavior_dict[key]).divide(1000)\n",
    "    \n",
    "    return clean_stimulus_df\n",
    "\n",
    "clean_df = build_clean_stimulus_df(clean_behavior_dict)"
   ]
  },
  {
   "cell_type": "code",
   "execution_count": 119,
   "id": "be21d865-75f8-42b9-a8db-9ef32edb378e",
   "metadata": {
    "collapsed": true,
    "jupyter": {
     "outputs_hidden": true
    },
    "tags": []
   },
   "outputs": [
    {
     "name": "stdout",
     "output_type": "stream",
     "text": [
      "       trial  trial_type Liquid_on Liquid_off Speaker_on Speaker_off\n",
      "0    Trial_1   Sucrose_1       NaN        NaN        NaN         NaN\n",
      "1    Trial_2   Sucrose_2       NaN        NaN        NaN         NaN\n",
      "2    Trial_3   Sucrose_3       NaN        NaN        NaN         NaN\n",
      "3    Trial_4   Sucrose_4       NaN        NaN        NaN         NaN\n",
      "4    Trial_5   Sucrose_5       NaN        NaN        NaN         NaN\n",
      "5    Trial_6   Sucrose_6       NaN        NaN        NaN         NaN\n",
      "6    Trial_7   Sucrose_7       NaN        NaN        NaN         NaN\n",
      "7    Trial_8   Sucrose_8       NaN        NaN        NaN         NaN\n",
      "8    Trial_9   Sucrose_9       NaN        NaN        NaN         NaN\n",
      "9   Trial_10  Sucrose_10       NaN        NaN        NaN         NaN\n",
      "10  Trial_11  Sucrose_11       NaN        NaN        NaN         NaN\n",
      "11  Trial_12  Sucrose_12       NaN        NaN        NaN         NaN\n",
      "12  Trial_13  Sucrose_13       NaN        NaN        NaN         NaN\n",
      "13  Trial_14  Sucrose_14       NaN        NaN        NaN         NaN\n",
      "14  Trial_15  Sucrose_15       NaN        NaN        NaN         NaN\n",
      "15  Trial_16  Sucrose_16       NaN        NaN        NaN         NaN\n",
      "16  Trial_17  Sucrose_17       NaN        NaN        NaN         NaN\n",
      "17  Trial_18  Sucrose_18       NaN        NaN        NaN         NaN\n",
      "18  Trial_19  Sucrose_19       NaN        NaN        NaN         NaN\n",
      "19  Trial_20  Sucrose_20       NaN        NaN        NaN         NaN\n",
      "20  Trial_21  Sucrose_21       NaN        NaN        NaN         NaN\n",
      "21  Trial_22  Sucrose_22       NaN        NaN        NaN         NaN\n",
      "22  Trial_23  Sucrose_23       NaN        NaN        NaN         NaN\n",
      "23  Trial_24  Sucrose_24       NaN        NaN        NaN         NaN\n",
      "24  Trial_25  Sucrose_25       NaN        NaN        NaN         NaN\n",
      "25  Trial_26  Sucrose_26       NaN        NaN        NaN         NaN\n",
      "26  Trial_27  Sucrose_27       NaN        NaN        NaN         NaN\n",
      "27  Trial_28  Sucrose_28       NaN        NaN        NaN         NaN\n",
      "28  Trial_29  Sucrose_29       NaN        NaN        NaN         NaN\n",
      "29  Trial_30  Sucrose_30       NaN        NaN        NaN         NaN\n",
      "30  Trial_31  Sucrose_31       NaN        NaN        NaN         NaN\n",
      "31  Trial_32  Sucrose_32       NaN        NaN        NaN         NaN\n",
      "32  Trial_33  Sucrose_33       NaN        NaN        NaN         NaN\n",
      "33  Trial_34  Sucrose_34       NaN        NaN        NaN         NaN\n",
      "34  Trial_35  Sucrose_35       NaN        NaN        NaN         NaN\n",
      "35  Trial_36  Sucrose_36       NaN        NaN        NaN         NaN\n",
      "36  Trial_37  Sucrose_37       NaN        NaN        NaN         NaN\n",
      "37  Trial_38  Sucrose_38       NaN        NaN        NaN         NaN\n",
      "38  Trial_39  Sucrose_39       NaN        NaN        NaN         NaN\n",
      "39  Trial_40  Sucrose_40       NaN        NaN        NaN         NaN\n"
     ]
    }
   ],
   "source": [
    "def build_behavior_stimulus_df(base_df, clean_df):\n",
    "    \"\"\"\n",
    "    Joins cleaned_stimulus_df and base_behavior_df into one DataFrame\n",
    "    \n",
    "    Parameters\n",
    "    ----------\n",
    "    1. Pandas DataFrame\n",
    "        Base behavior dataframe (trial types)\n",
    "    2. Pandas DataFrame\n",
    "        Cleaned stimulus dataframe (timestamps)\n",
    "    \n",
    "    Results\n",
    "    -------\n",
    "    1. Pandas DataFrame\n",
    "        Dataframe from united base and stimulus inputs\n",
    "    \"\"\"\n",
    "    \n",
    "    merged_behavior_df = base_df.join(clean_df, how=\"outer\")\n",
    "    \n",
    "#     print(merged_behavior_df)\n",
    "    \n",
    "    return merged_behavior_df\n",
    "    \n",
    "merged_behavior_df = build_behavior_stimulus_df(base_df, clean_df)"
   ]
  },
  {
   "cell_type": "code",
   "execution_count": 698,
   "id": "44b8c815-42bb-4ef4-9b90-75c69c8613c1",
   "metadata": {
    "tags": []
   },
   "outputs": [
    {
     "name": "stdout",
     "output_type": "stream",
     "text": [
      "Session Needs Merging: LHE011 20210603\n",
      "Session Needs Merging: LHE011 20210604\n",
      "Session Needs Merging: LHE011 20210605\n",
      "Session Needs Merging: LHE011 20210607\n",
      "Session Needs Merging: LHE011 20210608\n",
      "Session Needs Merging: LHE011 20210611\n",
      "Session Needs Merging: LHE011 20210612\n",
      "Merging: 20210603_LHE011_plane0-042_Cycle00001_VoltageRecording_001.csv\n"
     ]
    },
    {
     "ename": "NameError",
     "evalue": "name 'merged_df' is not defined",
     "output_type": "error",
     "traceback": [
      "\u001b[1;31m---------------------------------------------------------------------------\u001b[0m",
      "\u001b[1;31mNameError\u001b[0m                                 Traceback (most recent call last)",
      "\u001b[1;32m<ipython-input-698-34ce0ef6818a>\u001b[0m in \u001b[0;36m<module>\u001b[1;34m\u001b[0m\n\u001b[0;32m    146\u001b[0m     \u001b[1;32mreturn\u001b[0m \u001b[0mmerged_list\u001b[0m\u001b[1;33m\u001b[0m\u001b[1;33m\u001b[0m\u001b[0m\n\u001b[0;32m    147\u001b[0m \u001b[1;33m\u001b[0m\u001b[0m\n\u001b[1;32m--> 148\u001b[1;33m \u001b[0mmerged_list\u001b[0m \u001b[1;33m=\u001b[0m \u001b[0mmerge_2p_behavior\u001b[0m\u001b[1;33m(\u001b[0m\u001b[0mtwop_raw_beh_list\u001b[0m\u001b[1;33m,\u001b[0m \u001b[0mtwop_config_list\u001b[0m\u001b[1;33m)\u001b[0m\u001b[1;33m\u001b[0m\u001b[1;33m\u001b[0m\u001b[0m\n\u001b[0m",
      "\u001b[1;32m<ipython-input-698-34ce0ef6818a>\u001b[0m in \u001b[0;36mmerge_2p_behavior\u001b[1;34m(cleaned_behavior_dict, config_trial_types)\u001b[0m\n\u001b[0;32m    132\u001b[0m \u001b[1;33m\u001b[0m\u001b[0m\n\u001b[0;32m    133\u001b[0m         \u001b[1;31m# Append trial types to merged file\u001b[0m\u001b[1;33m\u001b[0m\u001b[1;33m\u001b[0m\u001b[1;33m\u001b[0m\u001b[0m\n\u001b[1;32m--> 134\u001b[1;33m         \u001b[0mmerged_df\u001b[0m\u001b[1;33m[\u001b[0m\u001b[1;34m\"trialTypes\"\u001b[0m\u001b[1;33m]\u001b[0m \u001b[1;33m=\u001b[0m \u001b[0mtrial_types\u001b[0m\u001b[1;33m\u001b[0m\u001b[1;33m\u001b[0m\u001b[0m\n\u001b[0m\u001b[0;32m    135\u001b[0m \u001b[1;33m\u001b[0m\u001b[0m\n\u001b[0;32m    136\u001b[0m         \u001b[1;31m# Create the new file using json package\u001b[0m\u001b[1;33m\u001b[0m\u001b[1;33m\u001b[0m\u001b[1;33m\u001b[0m\u001b[0m\n",
      "\u001b[1;31mNameError\u001b[0m: name 'merged_df' is not defined"
     ]
    }
   ],
   "source": [
    "# TODO: This needs to be done by writing things to HDF5/Zarr in NWB format so a complete dataset for a given session is available for analysis\n",
    "def merge_2p_behavior(clean_behavior_dict, config_trial_types):\n",
    "    \"\"\"\n",
    "    Merges one twop behavior, configuration, video, and microscopy files' data together.\n",
    "    \n",
    "    Parameters\n",
    "    ----------\n",
    "    arg1: dict\n",
    "        Dictionary of cleaned behavior data timestamps\n",
    "    arg2: list\n",
    "        List of trialtypes from configuration file\n",
    "    \n",
    "    Returns\n",
    "    -------\n",
    "    1. list\n",
    "        List of merged 2P behavior paths\n",
    "    \"\"\"\n",
    "\n",
    "    # TODO: Use Kyle's code to align these files with the relative timestamps of microscopy\n",
    "    # TODO: Get zipping of these two lists to work so finding config file is already completed...\n",
    "    # TODO: Make force overwrite/recompile the different datasets\n",
    "    # TODO: Make verbose version of this function\n",
    "    needs_merging = []\n",
    "    \n",
    "    merged_list = []\n",
    "    \n",
    "    # Give name_date pattern for the files we're aligning\n",
    "    name_date_pattern = re.compile(\"\\d{8}_[A-Z]{3}\\d{3}\")\n",
    "    \n",
    "    # First, check for cleaned data\n",
    "    for directory in twop_raw_beh_list:\n",
    "        \n",
    "        # Glob for the aligned json file\n",
    "        cleaned_check = directory.parents[1].glob(\"*_merged.json\")\n",
    "        \n",
    "        # Make a list using the result of the glob using list comprehension\n",
    "        clean_checklist = [session for session in cleaned_check]\n",
    "        \n",
    "        # If the list is empty, the session needs merging\n",
    "        if len(clean_checklist) == 0:\n",
    "            \n",
    "            # Show which session needs alignment and append the directory to needs_merging list\n",
    "            print(\"Session Needs Merging:\", directory.parents[3].name, directory.parents[1].name)\n",
    "            needs_merging.append(directory)\n",
    "        \n",
    "        # Else, the session has already been merged.  Append the filepath to the merged_list.\n",
    "        else:\n",
    "            merged_file = clean_checklist[0]\n",
    "            print(\"Session already merged:\", merged_file)\n",
    "            merged_list.append(merged_file)\n",
    "    \n",
    "    # Now, do the merging\n",
    "    for raw_file in needs_merging:\n",
    "        print(\"Merging:\", raw_file.name)\n",
    "        \n",
    "        merged = {}\n",
    "        \n",
    "        parent_folder = raw_file.parents[1]\n",
    "        \n",
    "        # From Kyle Fischer, June 2021 thru line 92\n",
    "        raw_behavior_df = pd.read_csv(raw_file, index_col=\"Time(ms)\").rename(columns=lambda col:col.strip())\n",
    "        \n",
    "        # Any value below 3V is not signal, turn it to zero by filtering\n",
    "        # values so all that remains are values greater than 3. All else\n",
    "        # will be 0.\n",
    "        raw_behavior_df = raw_behavior_df > 3\n",
    "        \n",
    "        # Convert all values to int; is necessary for pd.df.diff() to produce\n",
    "        # negative values used for stop times of each event\n",
    "        raw_behavior_df = raw_behavior_df.astype(int)\n",
    "        \n",
    "        # Take the diff of each column; gives start and stop of each signal\n",
    "        raw_behavior_df = raw_behavior_df.diff()\n",
    "\n",
    "        # Replace any NaN values with 0\n",
    "        raw_behavior_df = raw_behavior_df.fillna(0)\n",
    "        \n",
    "        # Grab start and stop values for licks\n",
    "        merged[\"LickOn\"] = raw_behavior_df[raw_behavior_df[\"Lick\"] == 1].index.tolist()\n",
    "        merged[\"LickOff\"] = raw_behavior_df[raw_behavior_df[\"Lick\"] == -1].index.tolist()\n",
    "        \n",
    "        # Grab start and stop values for Airpuff Solenoid\n",
    "        merged[\"AirpuffOn\"] = raw_behavior_df[raw_behavior_df[\"Airpuff\"] == 1].index.tolist()\n",
    "        merged[\"AirpuffOff\"] = raw_behavior_df[raw_behavior_df[\"Airpuff\"] == -1].index.tolist()\n",
    "        \n",
    "        # Grab start and stop values for Liquid Solenoid\n",
    "        merged[\"LiquidOn\"] = raw_behavior_df[raw_behavior_df[\"Liquid\"] == 1].index.tolist()\n",
    "        merged[\"LiquidOff\"] = raw_behavior_df[raw_behavior_df[\"Liquid\"] == -1].index.tolist()\n",
    "        \n",
    "        # Grab start and stop values for Speaker\n",
    "        merged[\"SpeakerOn\"] = raw_behavior_df[raw_behavior_df[\"Speaker\"] == 1].index.tolist()\n",
    "        merged[\"SpeakerOff\"] = raw_behavior_df[raw_behavior_df[\"Speaker\"] == -1].index.tolist()\n",
    "        \n",
    "        \n",
    "        #TODO: This should be just one regex, not sure why complete isn't working...\n",
    "        \n",
    "        # Perform the regex for the name and date of the file\n",
    "        r_name_date = re.search(pattern=name_date_pattern, string=raw_file.name)\n",
    "        \n",
    "        # Give the pattern for the plane of interest\n",
    "        plane_pattern = \"_plane\\d{1}\"\n",
    "        \n",
    "        # Perform the regex for the plane number of the file\n",
    "        r_plane = re.search(pattern=plane_pattern, string=raw_file.name)\n",
    "        \n",
    "        # Concatenate strings into final merged file as json type\n",
    "        merged_name = r_name_date.group(0) + r_plane.group(0) + \"_merged.json\"\n",
    "        \n",
    "        # Append the parent folder with this name to create the file later\n",
    "        merged_filename = parent_folder / merged_name\n",
    "        \n",
    "        # Grab the config file for this plane from the parent folder\n",
    "        config_glob = parent_folder.glob(\"*.json\")\n",
    "        \n",
    "        # Config gather the config file result in a list\n",
    "        config_file_result = [config for config in config_glob]\n",
    "        \n",
    "        # The config file is the only element of this list, not sure how to retain only the relevant file without lists...\n",
    "        config_file = config_file_result[0]\n",
    "        \n",
    "        # Open the json file using json package\n",
    "        with open(config_file, \"r\") as inFile:\n",
    "            \n",
    "            # The configuration is the read file\n",
    "            config = inFile.read()\n",
    "            \n",
    "            # Load the contents of the config with json.loads()\n",
    "            config_contents = json.loads(config)\n",
    "            \n",
    "            # Gather the trial types from the configuration\n",
    "            trial_types = config_contents[\"trialArray\"]\n",
    "        \n",
    "        # Append trial types to merged file\n",
    "        merged_df[\"trialTypes\"] = trial_types\n",
    "\n",
    "        # Create the new file using json package\n",
    "        with open(merged_filename, \"w\") as outFile:\n",
    "            \n",
    "            # Use json.dump to write aligned_dictionary to file\n",
    "            json.dump(merged, outFile)\n",
    "        \n",
    "        # Tell user the file has been written\n",
    "        print(\"Written\", merged_filename)\n",
    "        aligned_list.append(merged_filename)\n",
    "        \n",
    "    return merged_list\n",
    "\n",
    "merged_list = merge_2p_behavior(twop_raw_beh_list, twop_config_list)"
   ]
  },
  {
   "cell_type": "code",
   "execution_count": 318,
   "id": "5722d9a1-ffdc-4492-a88a-b68ac60228f1",
   "metadata": {},
   "outputs": [
    {
     "name": "stdout",
     "output_type": "stream",
     "text": [
      "Session Needs Alignment: LHE011 20210603\n",
      "Session Needs Alignment: LHE011 20210604\n",
      "Session Needs Alignment: LHE011 20210605\n",
      "Session Needs Alignment: LHE011 20210607\n",
      "Session Needs Alignment: LHE011 20210608\n",
      "Session Needs Alignment: LHE011 20210611\n",
      "Session Needs Alignment: LHE011 20210612\n",
      "Session Needs Alignment: LHE012 20210603\n",
      "Session Needs Alignment: LHE012 20210604\n",
      "Session Needs Alignment: LHE012 20210605\n",
      "Session Needs Alignment: LHE012 20210606\n",
      "Session Needs Alignment: LHE012 20210607\n",
      "Session Needs Alignment: LHE012 20210610\n",
      "Session Needs Alignment: LHE012 20210611\n",
      "Session Needs Alignment: LHE013 20210603\n",
      "Session Needs Alignment: LHE013 20210604\n",
      "Session Needs Alignment: LHE013 20210605\n",
      "Session Needs Alignment: LHE013 20210606\n",
      "Session Needs Alignment: LHE013 20210610\n",
      "Session Needs Alignment: LHE014 20210603\n",
      "Session Needs Alignment: LHE014 20210604\n",
      "Session Needs Alignment: LHE014 20210605\n",
      "Session Needs Alignment: LHE014 20210606\n",
      "Session Needs Alignment: LHE014 20210609\n",
      "Session Needs Alignment: LHE014 20210610\n",
      "Session Needs Alignment: LHE015 20210603\n",
      "Session Needs Alignment: LHE015 20210604\n",
      "Session Needs Alignment: LHE015 20210605\n",
      "Session Needs Alignment: LHE015 20210606\n",
      "Session Needs Alignment: LHE015 20210609\n",
      "Session Needs Alignment: LHE015 20210610\n",
      "Session Needs Alignment: LHE015 20210611\n",
      "Session Needs Alignment: LHE016 20210603\n",
      "Session Needs Alignment: LHE016 20210604\n",
      "Session Needs Alignment: LHE016 20210605\n",
      "Session Needs Alignment: LHE016 20210606\n",
      "Session Needs Alignment: LHE016 20210609\n",
      "Session Needs Alignment: LHE016 20210610\n"
     ]
    }
   ],
   "source": [
    "# TODO: This alignment function should be used to align lick rasters specifically, these alignment positions should not be written out to disk\n",
    "# However, I will be keeping it as a means of hosting static datasets for use on a sideproject that will display static datasets online for the lab...\n",
    "\n",
    "\n",
    "# TODO: Write the merged datafile using some of this code, eventually should be incorporated into raster plot generation/psth/lick probability functions\n",
    "# TODO: Get this to incorporate the training data from the headfix boxes\n",
    "# TODO: Should not rely upon aligned file\n",
    "def align_2p_behavior(merged_list, alignment_positions=[\"LiquidOn\", \"SpeakerOn\", \"AirpuffOn\"], prewindow=5, postwindow=5):\n",
    "    \"\"\"\n",
    "    Aligns twop behavior to different positions from user within specific windows\n",
    "    \n",
    "    Parameters\n",
    "    ----------\n",
    "    arg1: list\n",
    "        List of paths for merged behavior data\n",
    "    arg2: list\n",
    "        Alignment positions to store\n",
    "    arg3: int\n",
    "        Window (in seconds) for pre/post event alignment\n",
    "    \n",
    "    Returns\n",
    "    -------\n",
    "    1. list\n",
    "        List of aligned 2P behavior paths\n",
    "    \"\"\"\n",
    "\n",
    "    needs_alignment = []\n",
    "    \n",
    "    aligned_list = []\n",
    "    \n",
    "    # First, check for cleaned data\n",
    "    for directory in merged_list:\n",
    "        \n",
    "        clean_name_pattern = \"*aligned_window\" + str(window) + \"*\"\n",
    "        \n",
    "        # Glob for the aligned json file\n",
    "        cleaned_check = directory.parents[0].glob(clean_name_pattern)\n",
    "        \n",
    "        # Make a list using the result of the glob using list comprehension\n",
    "        clean_checklist = [session for session in cleaned_check]\n",
    "        \n",
    "        # If the list is empty, the session needs alignment\n",
    "        if len(clean_checklist) == 0:\n",
    "            \n",
    "            # Show which session needs alignment and append the directory to needs_merging list\n",
    "            print(\"Session Needs Alignment:\", directory.parents[2].name, directory.parents[0].name)\n",
    "            needs_alignment.append(directory)\n",
    "        \n",
    "        # Else, the session has already been aligned.  Append the filepath to the aligned_list.\n",
    "        else:\n",
    "            aligned_file = clean_checklist[0]\n",
    "            print(\"Session already aligned:\", aligned_file)\n",
    "            aligned_list.append(aligned_file)\n",
    "\n",
    "    for merged_file in needs_alignment:\n",
    "\n",
    "        with open(merged_file, \"r\") as inFile:\n",
    "\n",
    "            contents = inFile.read()\n",
    "\n",
    "            timestamps = json.loads(contents)\n",
    "\n",
    "        trial_df = pd.DataFrame()\n",
    "        \n",
    "        lick_timestamps = []\n",
    "        liquid_counter = 0\n",
    "        airpuff_counter = 0\n",
    "\n",
    "        # TODO: Each segment should be its own function call ie liquidon, speakers, airpuffon\n",
    "        for (index, trial) in enumerate(timestamps[\"trialTypes\"]):\n",
    "            if trial == 1:\n",
    "                liquid_counter += 1\n",
    "                trial_name = \"Trial_\" + str(index + 1)\n",
    "                trial_type = \"Sucrose_\" + str(liquid_counter)\n",
    "                s = pd.Series(trial_type, dtype=str, name=trial_name)\n",
    "                trial_df = trial_df.append(s)\n",
    "            else:\n",
    "                airpuff_counter += 1\n",
    "                trial_name = \"Trial_\" + str(index + 1)\n",
    "                trial_type = \"Airpuff_\" + str(airpuff_counter)\n",
    "                s = pd.Series(trial_type, dtype=str, name=trial_name)\n",
    "                trial_df = trial_df.append(s)\n",
    "        \n",
    "        trial_df.index.name = \"trial\"\n",
    "        trial_df.columns = [\"trial_type\"]\n",
    "        \n",
    "        exclude_keys = [\"LickOn\", \"LickOff\", \"LiquidOff\", \"AirpuffOff\", \"trialTypes\"]\n",
    "        \n",
    "        for key in timestamps.keys():\n",
    "            if key not in exclude_keys:\n",
    "                trial_df[key] = np.nan\n",
    "        \n",
    "        speakeron_df = pd.DataFrame()\n",
    "        \n",
    "        for (index, trial) in enumerate(timestamps[\"SpeakerOn\"]):\n",
    "            trial_number = \"Trial_\" + str(index + 1)\n",
    "            speaker_on_ms = trial\n",
    "            s = pd.Series(speaker_on_ms, name=trial_number)\n",
    "            speakeron_df = speakeron_df.append(s)\n",
    "        \n",
    "        speakeron_df.index.name = \"trial\"\n",
    "        speakeron_df.columns = [\"SpeakerOn\"]\n",
    "        \n",
    "        trial_df.update(speakeron_df)\n",
    "        \n",
    "        trial_df[\"SpeakerOn\"] = trial_df[\"SpeakerOn\"].divide(1000)\n",
    "        \n",
    "        speakeroff_df = pd.DataFrame()\n",
    "        \n",
    "        for (index, trial) in enumerate(timestamps[\"SpeakerOff\"]):\n",
    "            \n",
    "            trial_number = \"Trial_\" + str(index + 1)\n",
    "            speaker_off_ms = trial\n",
    "            s = pd.Series(speaker_off_ms, dtype=int, name=trial_number)\n",
    "            speakeroff_df = speakeroff_df.append(s)\n",
    "        \n",
    "        speakeroff_df.index.name = \"trial\"\n",
    "        speakeroff_df.columns = [\"SpeakerOff\"]\n",
    "        \n",
    "        trial_df.update(speakeroff_df)\n",
    "        \n",
    "        trial_df[\"SpeakerOff\"] = trial_df[\"SpeakerOff\"].divide(1000)\n",
    "        \n",
    "        trial_df.reset_index(inplace=True)\n",
    "        trial_df.set_index(\"trial_type\", inplace=True)\n",
    "\n",
    "        \n",
    "        liquid_df = pd.DataFrame()\n",
    "\n",
    "        for (index, trial) in enumerate(timestamps[\"LiquidOn\"]):\n",
    "            \n",
    "            liquid_trial = \"Sucrose_\" + str(index + 1)\n",
    "            liquid_start_ms = trial\n",
    "            s = pd.Series(liquid_start_ms, dtype=int, name=liquid_trial)\n",
    "            liquid_df = liquid_df.append(s)\n",
    "        \n",
    "        liquid_df.index.name = \"trial_type\"\n",
    "        liquid_df.columns = [\"LiquidOn\"]\n",
    "        \n",
    "        trial_df.update(liquid_df)\n",
    "        \n",
    "        trial_df[\"LiquidOn\"] = trial_df[\"LiquidOn\"].divide(1000)\n",
    "        \n",
    "        airpuff_df = pd.DataFrame()\n",
    "\n",
    "        for (index, trial) in enumerate(timestamps[\"AirpuffOn\"]):\n",
    "            airpuff_trial = \"Airpuff_\" + str(index + 1)\n",
    "            airpuff_start_ms = trial\n",
    "            s = pd.Series(airpuff_start_ms, dtype=int, name=airpuff_trial)\n",
    "            airpuff_df = airpuff_df.append(s)\n",
    "        \n",
    "        airpuff_df.index.name = \"trial_type\"\n",
    "        \n",
    "        if airpuff_df.size > 0:\n",
    "            airpuff_df.columns = [\"AirpuffOn\"]\n",
    "            trial_df.update(airpuff_df)\n",
    "        else:\n",
    "            pass\n",
    "        \n",
    "        trial_df.reset_index(inplace=True)\n",
    "        trial_df.set_index(\"trial\", inplace=True)\n",
    "        \n",
    "        trial_df[\"AirpuffOn\"] = trial_df[\"AirpuffOn\"].divide(1000)\n",
    "        \n",
    "        # Use list comprehension for lick timestamps\n",
    "        lick_timestamps = [lick for (index, lick) in enumerate(timestamps[\"LickOn\"])]\n",
    "        \n",
    "        lick_timestamps = [lick/1000 for lick in lick_timestamps]\n",
    "        \n",
    "        # Create columns for aligning licks to different events and then create lick lists\n",
    "        # This is terrible and a better way to assign licks to a list should be found, but\n",
    "        # without using a relational system I'm not sure how I can alter this...\n",
    "        # TODO: Make this a function that is iterated over instead of multiple for loops like this...\n",
    "        # Possible solutions: Create ITI starts/stops as dataframe values and evaluate against range\n",
    "        \n",
    "        for target in alignment_positions:\n",
    "            column = target + \"_licks\"\n",
    "            trial_df[column] = np.empty((len(trial_df), 0)).tolist()\n",
    "            for lick_time in lick_timestamps:\n",
    "                for value in trial_df[target].items():\n",
    "                    if (value[1] - prewindow) <= lick_time <= (value[1] + postwindow):\n",
    "                        tmp = value[0]\n",
    "                        trial_df[column].loc[tmp].append(lick_time)\n",
    "                    else:\n",
    "                        pass\n",
    "\n",
    "        # Create empty lists for ITI licks\n",
    "        trial_df[\"ITI_licks\"] = np.empty((len(trial_df), 0)).tolist()\n",
    "\n",
    "        # Get leftover ITI licks by creating sets out of aligned licks\n",
    "        accounted_licks = []\n",
    "        for value in trial_df[\"LiquidOn_licks\"].items():\n",
    "            if len(value[1]) == 0:\n",
    "                pass\n",
    "            else:\n",
    "                for licks in value[1]:\n",
    "                    accounted_licks.append(licks)\n",
    "        \n",
    "        accounted_licks = set(accounted_licks)\n",
    "        licks_set = set(lick_timestamps) \n",
    "        iti_licks = list(licks_set - accounted_licks)\n",
    "\n",
    "\n",
    "        # Again, a bad way to do this. Too many loops and likely to be quite slow...\n",
    "        for lick_time in iti_licks:\n",
    "            for value in trial_df[\"ITI_licks\"].items():\n",
    "                tmp = value[0]\n",
    "                if (trial_df[\"SpeakerOn\"].loc[tmp] - prewindow) <= lick_time <= (trial_df[\"LiquidOn\"].loc[tmp] + postwindow):\n",
    "                    trial_df[\"ITI_licks\"].loc[tmp].append(lick_time)\n",
    "\n",
    "        aligned_filename = merged_file.stem\n",
    "        aligned_filename = aligned_filename.replace(\"merged\", \"aligned\")\n",
    "        aligned_filename = aligned_filename + \"_\" + \"window\" + str(window) + \".csv\"\n",
    "        \n",
    "        aligned_file_path = merged_file.parents[0] / aligned_filename\n",
    "        \n",
    "        aligned_list.append(aligned_file_path)\n",
    "        \n",
    "        trial_df.to_csv(aligned_file_path)\n",
    "\n",
    "    return aligned_list\n",
    "\n",
    "\n",
    "aligned_list = align_2p_behavior(merged_list)"
   ]
  },
  {
   "cell_type": "code",
   "execution_count": null,
   "id": "83d7e62f-d559-46a9-a377-abe5a9a426ef",
   "metadata": {},
   "outputs": [],
   "source": []
  }
 ],
 "metadata": {
  "kernelspec": {
   "display_name": "Python 3",
   "language": "python",
   "name": "python3"
  },
  "language_info": {
   "codemirror_mode": {
    "name": "ipython",
    "version": 3
   },
   "file_extension": ".py",
   "mimetype": "text/x-python",
   "name": "python",
   "nbconvert_exporter": "python",
   "pygments_lexer": "ipython3",
   "version": "3.9.6"
  }
 },
 "nbformat": 4,
 "nbformat_minor": 5
}
